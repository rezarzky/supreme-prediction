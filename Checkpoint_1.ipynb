{
  "nbformat": 4,
  "nbformat_minor": 0,
  "metadata": {
    "colab": {
      "provenance": []
    },
    "kernelspec": {
      "name": "python3",
      "display_name": "Python 3"
    },
    "language_info": {
      "name": "python"
    }
  },
  "cells": [
    {
      "cell_type": "markdown",
      "source": [
        "## Predicting Outcomes of US Supreme Court Oral Arguments\n",
        "\n",
        "Team: Fei Wang, Reza R Pratama, Shradha Ganapathy, Xiomara Salazar\n",
        "\n"
      ],
      "metadata": {
        "id": "rksSh6rvE2ZO"
      }
    },
    {
      "cell_type": "markdown",
      "source": [
        "\n",
        "\n",
        "### Description\n",
        "\n",
        "The Supreme Court of the US (SCOTUS) is the highest court in the United States. It holds the power of judicial review – determining whether a statute violates the Constitution. The court consists of nine Justices (a chief justice and eight associate justices). Justices can serve for life (i.e., until they die, retire, resign, get impeached, etc.), so one Justice can influence decisions for many decades. Clearly, the decisions made by the SCOTUS have great public policy impact in the US. \n",
        "\n",
        "In general, the cases that the SCOTUS review have been given a decision by a lower court, and are brought to the Court for appeal of said decision. For these cases, the Court will take briefs and conduct an oral argument with the attorneys representing the (usually 2) parties in this case. Following the oral argument, each Justice gets one vote, and the majority vote determines the case outcome. Example SCOTUS case: https://www.oyez.org/cases/2018/17-204 \n",
        "\n",
        "For this project, we are interested in predicting the outcome of the case (i.e., which party gets the majority vote) from the oral argument transcripts. These transcripts (see Dataset) are dialogs of English natural language text. This can be thought of as a text classification task, where the transcripts are the input documents. The labels we want to predict are the outcomes (e.g., Y/N the petitioner “wins”). \n"
      ],
      "metadata": {
        "id": "26nz3K_XJqfv"
      }
    },
    {
      "cell_type": "markdown",
      "source": [
        "### Dataset\n",
        "Supreme Court Oral Arguments Corpus from [Convokit](https://convokit.cornell.edu/documentation/supreme.html). We analyzed data across eight years of the George W. Bush and two terms (8 years) of the Barack Obama administration (2001 - 2018). \n",
        "\n",
        "<h3> <i> Why did we select this subset of data? </i> </h3>\n",
        "\n",
        "As justices in the US Supreme Court are political appointees -- confirmed to their positions via Senate -- we wanted to evaluate outcomes across two different political periods. We settled on choosing an administration under a Democratic President and another under a Republican President. \n",
        "\n",
        "Our initial idea was to evaluate courts across the Obama and the Trump administrations; however, the dataset does not cover the entire Trump administration. We, thus, decided to select the Bush and Obama administrations. Both these administrations had fairly balanced courts in terms of political / legal leanings. Additionally, both Presidents Bush and Obama appointed two justices each to the Supreme Court during their tenures - implying that the constitution of our courts remained fairly consistent with the same \"number of changes.\" The choice of successive administrations was also important to reflect the fairly contiguous nature of the Supreme Court where Justices serve until retirement or passing. \n",
        "\n",
        "We decided to choose Presidents with two terms to see if there was a difference at play between how a court would vote between the first and second terms of a President - and more broadly speaking - whether the term had an impact at all.The long time span allowed for us to also compare - for some justices - whether their votes differed between their times under the Bush and subsequently the Obama administration.\n",
        "\n",
        "Data downloaded and saved as csv using this script: download_data.py"
      ],
      "metadata": {
        "id": "966-CAcTFcL-"
      }
    },
    {
      "cell_type": "markdown",
      "source": [
        "## Data Exploration"
      ],
      "metadata": {
        "id": "oC-bfn1JJ0UB"
      }
    },
    {
      "cell_type": "markdown",
      "source": [
        "#### Load Data"
      ],
      "metadata": {
        "id": "5aMx6LDuKW5H"
      }
    },
    {
      "cell_type": "code",
      "source": [
        "import pandas as pd\n",
        "import statsmodels.formula.api as sm\n",
        "from ast import literal_eval\n",
        "import seaborn as sns\n",
        "import matplotlib.pyplot as plt\n",
        "%matplotlib inline\n"
      ],
      "metadata": {
        "id": "tjGgnhvwKtxK"
      },
      "execution_count": 80,
      "outputs": []
    },
    {
      "cell_type": "code",
      "source": [
        "path = 'http://rezarzky.my.id/dataset/' #change to your data location"
      ],
      "metadata": {
        "id": "AuFV9GYYJiwT"
      },
      "execution_count": 81,
      "outputs": []
    },
    {
      "cell_type": "code",
      "source": [
        "# load downloaded data\n",
        "df_convos = pd.read_csv(path+'/conversations.csv')\n",
        "df_speakers = pd.read_csv(path+'/speakers.csv')\n",
        "df_utts = pd.read_csv(path+'/utterances.csv')\n",
        "df_cases = pd.read_json(path_or_buf='https://zissou.infosci.cornell.edu/convokit/datasets/supreme-corpus/cases.jsonl', lines=True)"
      ],
      "metadata": {
        "id": "qg_2uth5KkpF"
      },
      "execution_count": 82,
      "outputs": []
    },
    {
      "cell_type": "markdown",
      "source": [
        "## Cases"
      ],
      "metadata": {
        "id": "Mdxsqsjv8NrZ"
      }
    },
    {
      "cell_type": "code",
      "source": [
        "# filter out cases that 2011-2018 AND win_side [0,1]\n",
        "df_cases = df_cases[(df_cases['year'] >= 2011) & (df_cases['year'] <= 2018) & (df_cases['win_side'].isin([0,1]))]\n",
        "df_cases.info()"
      ],
      "metadata": {
        "colab": {
          "base_uri": "https://localhost:8080/"
        },
        "id": "SZcyX-uk8QmI",
        "outputId": "e54e53dd-10d1-4652-cbea-07a02069cb7b"
      },
      "execution_count": 83,
      "outputs": [
        {
          "output_type": "stream",
          "name": "stdout",
          "text": [
            "<class 'pandas.core.frame.DataFrame'>\n",
            "Int64Index: 601 entries, 7065 to 7686\n",
            "Data columns (total 21 columns):\n",
            " #   Column                Non-Null Count  Dtype  \n",
            "---  ------                --------------  -----  \n",
            " 0   id                    601 non-null    object \n",
            " 1   year                  601 non-null    int64  \n",
            " 2   citation              599 non-null    object \n",
            " 3   title                 601 non-null    object \n",
            " 4   petitioner            601 non-null    object \n",
            " 5   respondent            601 non-null    object \n",
            " 6   docket_no             601 non-null    object \n",
            " 7   court                 601 non-null    object \n",
            " 8   decided_date          601 non-null    object \n",
            " 9   url                   601 non-null    object \n",
            " 10  transcripts           601 non-null    object \n",
            " 11  adv_sides_inferred    601 non-null    bool   \n",
            " 12  known_respondent_adv  601 non-null    bool   \n",
            " 13  advocates             601 non-null    object \n",
            " 14  win_side              601 non-null    float64\n",
            " 15  win_side_detail       601 non-null    float64\n",
            " 16  scdb_docket_id        601 non-null    object \n",
            " 17  votes                 601 non-null    object \n",
            " 18  votes_detail          601 non-null    object \n",
            " 19  is_eq_divided         601 non-null    float64\n",
            " 20  votes_side            601 non-null    object \n",
            "dtypes: bool(2), float64(3), int64(1), object(15)\n",
            "memory usage: 95.1+ KB\n"
          ]
        }
      ]
    },
    {
      "cell_type": "code",
      "source": [
        "# Count number of cases per year\n",
        "df_cases.groupby(['year']).size()"
      ],
      "metadata": {
        "colab": {
          "base_uri": "https://localhost:8080/"
        },
        "id": "MdH4Pk3z8UJX",
        "outputId": "680d60ce-6b64-4c6e-82f9-743432557b83"
      },
      "execution_count": 84,
      "outputs": [
        {
          "output_type": "execute_result",
          "data": {
            "text/plain": [
              "year\n",
              "2011    78\n",
              "2012    78\n",
              "2013    75\n",
              "2014    74\n",
              "2015    80\n",
              "2016    69\n",
              "2017    73\n",
              "2018    74\n",
              "dtype: int64"
            ]
          },
          "metadata": {},
          "execution_count": 84
        }
      ]
    },
    {
      "cell_type": "code",
      "source": [
        "# Check in what month the case usually decided\n",
        "df_cases['decided_date'] = pd.to_datetime(df_cases['decided_date'])\n",
        "df_cases['decided_month'] = df_cases['decided_date'].dt.month\n",
        "df_cases['decided_year'] = df_cases['decided_date'].dt.year\n"
      ],
      "metadata": {
        "id": "NX1yLoa79WSS"
      },
      "execution_count": 85,
      "outputs": []
    },
    {
      "cell_type": "code",
      "source": [
        "# Create Line Graph of Cases by Per Month\n",
        "df_cases.groupby(['decided_year', 'decided_month']).size().plot(kind='line', figsize=(15, 5), title='Cases by Month')\n",
        "plt.show()"
      ],
      "metadata": {
        "colab": {
          "base_uri": "https://localhost:8080/",
          "height": 487
        },
        "id": "8MOSbHnz91EQ",
        "outputId": "430eeee4-ed1a-4763-b4e0-28ff408e5798"
      },
      "execution_count": 86,
      "outputs": [
        {
          "output_type": "display_data",
          "data": {
            "text/plain": [
              "<Figure size 1500x500 with 1 Axes>"
            ],
            "image/png": "[encoded data removed]"
          },
          "metadata": {}
        }
      ]
    },
    {
      "cell_type": "markdown",
      "source": [
        "### Conversation"
      ],
      "metadata": {
        "id": "OPfMqqIAK_yk"
      }
    },
    {
      "cell_type": "code",
      "source": [
        "# Check head\n",
        "df_convos.head()"
      ],
      "metadata": {
        "colab": {
          "base_uri": "https://localhost:8080/",
          "height": 206
        },
        "id": "4rI_UYmaK4hB",
        "outputId": "1f9574e9-fe1c-482f-d76c-8cc716a2e4b3"
      },
      "execution_count": 87,
      "outputs": [
        {
          "output_type": "execute_result",
          "data": {
            "text/plain": [
              "      id vectors  meta.case_id  \\\n",
              "0  22149      []   2001_01-584   \n",
              "1  22721      []   2001_00-730   \n",
              "2  21448      []  2001_00-1214   \n",
              "3  22788      []  2001_00-1293   \n",
              "4  21372      []   2001_00-795   \n",
              "\n",
              "                                      meta.advocates  meta.win_side  \\\n",
              "0  {'john_crabtree': {'side': 1, 'role': 'on beha...            0.0   \n",
              "1  {'william_perry_pendley': {'side': 1, 'role': ...            0.0   \n",
              "2  {'william_h_mills': {'side': 0, 'role': 'Argue...            0.0   \n",
              "3  {'ann_e_beeson': {'side': 0, 'role': 'Argued t...            1.0   \n",
              "4  {'paul_d_clement': {'side': 1, 'role': 'Depart...            0.0   \n",
              "\n",
              "                                     meta.votes_side  year  \n",
              "0  {'j__william_h_rehnquist': 0, 'j__john_paul_st...  2001  \n",
              "1  {'j__william_h_rehnquist': 0, 'j__john_paul_st...  2001  \n",
              "2  {'j__william_h_rehnquist': 1, 'j__john_paul_st...  2001  \n",
              "3  {'j__william_h_rehnquist': 1, 'j__john_paul_st...  2001  \n",
              "4  {'j__william_h_rehnquist': 1, 'j__john_paul_st...  2001  "
            ],
            "text/html": [
              "\n",
              "  <div id=\"df-4c085119-ef95-43a3-84fe-d6ab26bf0997\">\n",
              "    <div class=\"colab-df-container\">\n",
              "      <div>\n",
              "<style scoped>\n",
              "    .dataframe tbody tr th:only-of-type {\n",
              "        vertical-align: middle;\n",
              "    }\n",
              "\n",
              "    .dataframe tbody tr th {\n",
              "        vertical-align: top;\n",
              "    }\n",
              "\n",
              "    .dataframe thead th {\n",
              "        text-align: right;\n",
              "    }\n",
              "</style>\n",
              "<table border=\"1\" class=\"dataframe\">\n",
              "  <thead>\n",
              "    <tr style=\"text-align: right;\">\n",
              "      <th></th>\n",
              "      <th>id</th>\n",
              "      <th>vectors</th>\n",
              "      <th>meta.case_id</th>\n",
              "      <th>meta.advocates</th>\n",
              "      <th>meta.win_side</th>\n",
              "      <th>meta.votes_side</th>\n",
              "      <th>year</th>\n",
              "    </tr>\n",
              "  </thead>\n",
              "  <tbody>\n",
              "    <tr>\n",
              "      <th>0</th>\n",
              "      <td>22149</td>\n",
              "      <td>[]</td>\n",
              "      <td>2001_01-584</td>\n",
              "      <td>{'john_crabtree': {'side': 1, 'role': 'on beha...</td>\n",
              "      <td>0.0</td>\n",
              "      <td>{'j__william_h_rehnquist': 0, 'j__john_paul_st...</td>\n",
              "      <td>2001</td>\n",
              "    </tr>\n",
              "    <tr>\n",
              "      <th>1</th>\n",
              "      <td>22721</td>\n",
              "      <td>[]</td>\n",
              "      <td>2001_00-730</td>\n",
              "      <td>{'william_perry_pendley': {'side': 1, 'role': ...</td>\n",
              "      <td>0.0</td>\n",
              "      <td>{'j__william_h_rehnquist': 0, 'j__john_paul_st...</td>\n",
              "      <td>2001</td>\n",
              "    </tr>\n",
              "    <tr>\n",
              "      <th>2</th>\n",
              "      <td>21448</td>\n",
              "      <td>[]</td>\n",
              "      <td>2001_00-1214</td>\n",
              "      <td>{'william_h_mills': {'side': 0, 'role': 'Argue...</td>\n",
              "      <td>0.0</td>\n",
              "      <td>{'j__william_h_rehnquist': 1, 'j__john_paul_st...</td>\n",
              "      <td>2001</td>\n",
              "    </tr>\n",
              "    <tr>\n",
              "      <th>3</th>\n",
              "      <td>22788</td>\n",
              "      <td>[]</td>\n",
              "      <td>2001_00-1293</td>\n",
              "      <td>{'ann_e_beeson': {'side': 0, 'role': 'Argued t...</td>\n",
              "      <td>1.0</td>\n",
              "      <td>{'j__william_h_rehnquist': 1, 'j__john_paul_st...</td>\n",
              "      <td>2001</td>\n",
              "    </tr>\n",
              "    <tr>\n",
              "      <th>4</th>\n",
              "      <td>21372</td>\n",
              "      <td>[]</td>\n",
              "      <td>2001_00-795</td>\n",
              "      <td>{'paul_d_clement': {'side': 1, 'role': 'Depart...</td>\n",
              "      <td>0.0</td>\n",
              "      <td>{'j__william_h_rehnquist': 1, 'j__john_paul_st...</td>\n",
              "      <td>2001</td>\n",
              "    </tr>\n",
              "  </tbody>\n",
              "</table>\n",
              "</div>\n",
              "      <button class=\"colab-df-convert\" onclick=\"convertToInteractive('df-4c085119-ef95-43a3-84fe-d6ab26bf0997')\"\n",
              "              title=\"Convert this dataframe to an interactive table.\"\n",
              "              style=\"display:none;\">\n",
              "        \n",
              "  <svg xmlns=\"http://www.w3.org/2000/svg\" height=\"24px\"viewBox=\"0 0 24 24\"\n",
              "       width=\"24px\">\n",
              "    <path d=\"M0 0h24v24H0V0z\" fill=\"none\"/>\n",
              "    <path d=\"M18.56 5.44l.94 2.06.94-2.06 2.06-.94-2.06-.94-.94-2.06-.94 2.06-2.06.94zm-11 1L8.5 8.5l.94-2.06 2.06-.94-2.06-.94L8.5 2.5l-.94 2.06-2.06.94zm10 10l.94 2.06.94-2.06 2.06-.94-2.06-.94-.94-2.06-.94 2.06-2.06.94z\"/><path d=\"M17.41 7.96l-1.37-1.37c-.4-.4-.92-.59-1.43-.59-.52 0-1.04.2-1.43.59L10.3 9.45l-7.72 7.72c-.78.78-.78 2.05 0 2.83L4 21.41c.39.39.9.59 1.41.59.51 0 1.02-.2 1.41-.59l7.78-7.78 2.81-2.81c.8-.78.8-2.07 0-2.86zM5.41 20L4 18.59l7.72-7.72 1.47 1.35L5.41 20z\"/>\n",
              "  </svg>\n",
              "      </button>\n",
              "      \n",
              "  <style>\n",
              "    .colab-df-container {\n",
              "      display:flex;\n",
              "      flex-wrap:wrap;\n",
              "      gap: 12px;\n",
              "    }\n",
              "\n",
              "    .colab-df-convert {\n",
              "      background-color: #E8F0FE;\n",
              "      border: none;\n",
              "      border-radius: 50%;\n",
              "      cursor: pointer;\n",
              "      display: none;\n",
              "      fill: #1967D2;\n",
              "      height: 32px;\n",
              "      padding: 0 0 0 0;\n",
              "      width: 32px;\n",
              "    }\n",
              "\n",
              "    .colab-df-convert:hover {\n",
              "      background-color: #E2EBFA;\n",
              "      box-shadow: 0px 1px 2px rgba(60, 64, 67, 0.3), 0px 1px 3px 1px rgba(60, 64, 67, 0.15);\n",
              "      fill: #174EA6;\n",
              "    }\n",
              "\n",
              "    [theme=dark] .colab-df-convert {\n",
              "      background-color: #3B4455;\n",
              "      fill: #D2E3FC;\n",
              "    }\n",
              "\n",
              "    [theme=dark] .colab-df-convert:hover {\n",
              "      background-color: #434B5C;\n",
              "      box-shadow: 0px 1px 3px 1px rgba(0, 0, 0, 0.15);\n",
              "      filter: drop-shadow(0px 1px 2px rgba(0, 0, 0, 0.3));\n",
              "      fill: #FFFFFF;\n",
              "    }\n",
              "  </style>\n",
              "\n",
              "      <script>\n",
              "        const buttonEl =\n",
              "          document.querySelector('#df-4c085119-ef95-43a3-84fe-d6ab26bf0997 button.colab-df-convert');\n",
              "        buttonEl.style.display =\n",
              "          google.colab.kernel.accessAllowed ? 'block' : 'none';\n",
              "\n",
              "        async function convertToInteractive(key) {\n",
              "          const element = document.querySelector('#df-4c085119-ef95-43a3-84fe-d6ab26bf0997');\n",
              "          const dataTable =\n",
              "            await google.colab.kernel.invokeFunction('convertToInteractive',\n",
              "                                                     [key], {});\n",
              "          if (!dataTable) return;\n",
              "\n",
              "          const docLinkHtml = 'Like what you see? Visit the ' +\n",
              "            '<a target=\"_blank\" href=https://colab.research.google.com/notebooks/data_table.ipynb>data table notebook</a>'\n",
              "            + ' to learn more about interactive tables.';\n",
              "          element.innerHTML = '';\n",
              "          dataTable['output_type'] = 'display_data';\n",
              "          await google.colab.output.renderOutput(dataTable, element);\n",
              "          const docLink = document.createElement('div');\n",
              "          docLink.innerHTML = docLinkHtml;\n",
              "          element.appendChild(docLink);\n",
              "        }\n",
              "      </script>\n",
              "    </div>\n",
              "  </div>\n",
              "  "
            ]
          },
          "metadata": {},
          "execution_count": 87
        }
      ]
    },
    {
      "cell_type": "code",
      "source": [
        "# Check datatype\n",
        "df_convos.info()"
      ],
      "metadata": {
        "colab": {
          "base_uri": "https://localhost:8080/"
        },
        "id": "mhuM36sXLN02",
        "outputId": "b3b7f601-e699-4450-a1a3-5fd51f8d8835"
      },
      "execution_count": 88,
      "outputs": [
        {
          "output_type": "stream",
          "name": "stdout",
          "text": [
            "<class 'pandas.core.frame.DataFrame'>\n",
            "RangeIndex: 1292 entries, 0 to 1291\n",
            "Data columns (total 7 columns):\n",
            " #   Column           Non-Null Count  Dtype  \n",
            "---  ------           --------------  -----  \n",
            " 0   id               1292 non-null   int64  \n",
            " 1   vectors          1292 non-null   object \n",
            " 2   meta.case_id     1292 non-null   object \n",
            " 3   meta.advocates   1292 non-null   object \n",
            " 4   meta.win_side    1290 non-null   float64\n",
            " 5   meta.votes_side  1290 non-null   object \n",
            " 6   year             1292 non-null   int64  \n",
            "dtypes: float64(1), int64(2), object(4)\n",
            "memory usage: 70.8+ KB\n"
          ]
        }
      ]
    },
    {
      "cell_type": "code",
      "source": [
        "# Check for number of unique meta.win_side\n",
        "df_convos['meta.win_side'].value_counts()"
      ],
      "metadata": {
        "id": "R0TbDOrvLSXH",
        "colab": {
          "base_uri": "https://localhost:8080/"
        },
        "outputId": "98344de7-bb38-4547-ce8d-ada7644cfa68"
      },
      "execution_count": 89,
      "outputs": [
        {
          "output_type": "execute_result",
          "data": {
            "text/plain": [
              "1.0    853\n",
              "0.0    435\n",
              "2.0      2\n",
              "Name: meta.win_side, dtype: int64"
            ]
          },
          "metadata": {},
          "execution_count": 89
        }
      ]
    },
    {
      "cell_type": "code",
      "source": [
        "# Filtering the non binary values in meta.win_side (only do binary variable)\n",
        "df_convos = df_convos.loc[df_convos['meta.win_side'].isin([0,1])]\n",
        "df_convos['meta.win_side'].value_counts()"
      ],
      "metadata": {
        "colab": {
          "base_uri": "https://localhost:8080/"
        },
        "id": "fPlvJFbbQSSd",
        "outputId": "ebad4fbd-abd0-496a-b373-5f92cfc71289"
      },
      "execution_count": 90,
      "outputs": [
        {
          "output_type": "execute_result",
          "data": {
            "text/plain": [
              "1.0    853\n",
              "0.0    435\n",
              "Name: meta.win_side, dtype: int64"
            ]
          },
          "metadata": {},
          "execution_count": 90
        }
      ]
    },
    {
      "cell_type": "code",
      "source": [
        "# how many convos and winner per year\n",
        "aggregate_df = df_convos.groupby(['year', 'meta.win_side']).size().reset_index(name='total')\n",
        "\n",
        "plt.figure(figsize=(10, 6))\n",
        "sns.barplot(x='year', y='total', hue='meta.win_side', data=aggregate_df)"
      ],
      "metadata": {
        "colab": {
          "base_uri": "https://localhost:8080/",
          "height": 560
        },
        "id": "P12mM_VVWUOP",
        "outputId": "b12d8cb4-5e2e-4a1e-c8a5-4cac4e9f3d3d"
      },
      "execution_count": 91,
      "outputs": [
        {
          "output_type": "execute_result",
          "data": {
            "text/plain": [
              "<Axes: xlabel='year', ylabel='total'>"
            ]
          },
          "metadata": {},
          "execution_count": 91
        },
        {
          "output_type": "display_data",
          "data": {
            "text/plain": [
              "<Figure size 1000x600 with 1 Axes>"
            ],
            "image/png": "[encoded data removed]"
          },
          "metadata": {}
        }
      ]
    },
    {
      "cell_type": "code",
      "source": [
        "# Extract Advocate based on Role\n",
        "import ast\n",
        "def extract_advocate_names(row, side):\n",
        "    advocates_dict = ast.literal_eval(row['meta.advocates'])\n",
        "    names = []\n",
        "    for advocate, info in advocates_dict.items():\n",
        "        if info['side'] == side:\n",
        "            names.append(advocate)\n",
        "    return ', '.join(names)\n",
        "\n",
        "df_convos['respondents'] = df_convos.apply(lambda row: extract_advocate_names(row, 0), axis=1)\n",
        "df_convos['petitioner'] = df_convos.apply(lambda row: extract_advocate_names(row, 1), axis=1)\n",
        "df_convos['amicus_curiae'] = df_convos.apply(lambda row: extract_advocate_names(row, 2), axis=1)"
      ],
      "metadata": {
        "id": "_RB3IwjUxmvc"
      },
      "execution_count": 92,
      "outputs": []
    },
    {
      "cell_type": "code",
      "source": [
        "# Top 10 \n",
        "advocate_wins = df_convos[df_convos['meta.win_side'] == 1].groupby('petitioner')['petitioner'].count().reset_index(name='win_count')\n",
        "advocate_total_cases = df_convos.groupby('petitioner')['petitioner'].count().reset_index(name='total_cases')\n",
        "advocate_stats = pd.merge(advocate_wins, advocate_total_cases, on='petitioner', how='outer')\n",
        "advocate_stats['win_count'] = advocate_stats['win_count'].fillna(0)\n",
        "advocate_stats['win_pct'] = advocate_stats['win_count'] / advocate_stats['total_cases'] * 100\n",
        "advocate_stats.columns = ['advocate_name', 'win_count', 'total_cases', 'win_pct']\n",
        "advocate_stats.nlargest(10, 'total_cases')"
      ],
      "metadata": {
        "colab": {
          "base_uri": "https://localhost:8080/",
          "height": 362
        },
        "id": "n16G7rEdyN0X",
        "outputId": "a48b474a-59ea-4a70-f5b8-fd7df0f8177c"
      },
      "execution_count": 93,
      "outputs": [
        {
          "output_type": "execute_result",
          "data": {
            "text/plain": [
              "          advocate_name  win_count  total_cases    win_pct\n",
              "374      paul_d_clement       22.0           32  68.750000\n",
              "49    carter_g_phillips       15.0           27  55.555556\n",
              "209    jeffrey_l_fisher       13.0           26  50.000000\n",
              "455       seth_p_waxman       18.0           22  81.818182\n",
              "490    theodore_b_olson       16.0           19  84.210526\n",
              "126    edwin_s_kneedler       11.0           15  73.333333\n",
              "492  thomas_c_goldstein        7.0           15  46.666667\n",
              "164     gregory_g_garre        8.0           14  57.142857\n",
              "255  kannon_k_shanmugam        7.0           13  53.846154\n",
              "93    david_c_frederick       10.0           12  83.333333"
            ],
            "text/html": [
              "\n",
              "  <div id=\"df-4c78d785-b870-4dc9-a0d2-c6187ea2770c\">\n",
              "    <div class=\"colab-df-container\">\n",
              "      <div>\n",
              "<style scoped>\n",
              "    .dataframe tbody tr th:only-of-type {\n",
              "        vertical-align: middle;\n",
              "    }\n",
              "\n",
              "    .dataframe tbody tr th {\n",
              "        vertical-align: top;\n",
              "    }\n",
              "\n",
              "    .dataframe thead th {\n",
              "        text-align: right;\n",
              "    }\n",
              "</style>\n",
              "<table border=\"1\" class=\"dataframe\">\n",
              "  <thead>\n",
              "    <tr style=\"text-align: right;\">\n",
              "      <th></th>\n",
              "      <th>advocate_name</th>\n",
              "      <th>win_count</th>\n",
              "      <th>total_cases</th>\n",
              "      <th>win_pct</th>\n",
              "    </tr>\n",
              "  </thead>\n",
              "  <tbody>\n",
              "    <tr>\n",
              "      <th>374</th>\n",
              "      <td>paul_d_clement</td>\n",
              "      <td>22.0</td>\n",
              "      <td>32</td>\n",
              "      <td>68.750000</td>\n",
              "    </tr>\n",
              "    <tr>\n",
              "      <th>49</th>\n",
              "      <td>carter_g_phillips</td>\n",
              "      <td>15.0</td>\n",
              "      <td>27</td>\n",
              "      <td>55.555556</td>\n",
              "    </tr>\n",
              "    <tr>\n",
              "      <th>209</th>\n",
              "      <td>jeffrey_l_fisher</td>\n",
              "      <td>13.0</td>\n",
              "      <td>26</td>\n",
              "      <td>50.000000</td>\n",
              "    </tr>\n",
              "    <tr>\n",
              "      <th>455</th>\n",
              "      <td>seth_p_waxman</td>\n",
              "      <td>18.0</td>\n",
              "      <td>22</td>\n",
              "      <td>81.818182</td>\n",
              "    </tr>\n",
              "    <tr>\n",
              "      <th>490</th>\n",
              "      <td>theodore_b_olson</td>\n",
              "      <td>16.0</td>\n",
              "      <td>19</td>\n",
              "      <td>84.210526</td>\n",
              "    </tr>\n",
              "    <tr>\n",
              "      <th>126</th>\n",
              "      <td>edwin_s_kneedler</td>\n",
              "      <td>11.0</td>\n",
              "      <td>15</td>\n",
              "      <td>73.333333</td>\n",
              "    </tr>\n",
              "    <tr>\n",
              "      <th>492</th>\n",
              "      <td>thomas_c_goldstein</td>\n",
              "      <td>7.0</td>\n",
              "      <td>15</td>\n",
              "      <td>46.666667</td>\n",
              "    </tr>\n",
              "    <tr>\n",
              "      <th>164</th>\n",
              "      <td>gregory_g_garre</td>\n",
              "      <td>8.0</td>\n",
              "      <td>14</td>\n",
              "      <td>57.142857</td>\n",
              "    </tr>\n",
              "    <tr>\n",
              "      <th>255</th>\n",
              "      <td>kannon_k_shanmugam</td>\n",
              "      <td>7.0</td>\n",
              "      <td>13</td>\n",
              "      <td>53.846154</td>\n",
              "    </tr>\n",
              "    <tr>\n",
              "      <th>93</th>\n",
              "      <td>david_c_frederick</td>\n",
              "      <td>10.0</td>\n",
              "      <td>12</td>\n",
              "      <td>83.333333</td>\n",
              "    </tr>\n",
              "  </tbody>\n",
              "</table>\n",
              "</div>\n",
              "      <button class=\"colab-df-convert\" onclick=\"convertToInteractive('df-4c78d785-b870-4dc9-a0d2-c6187ea2770c')\"\n",
              "              title=\"Convert this dataframe to an interactive table.\"\n",
              "              style=\"display:none;\">\n",
              "        \n",
              "  <svg xmlns=\"http://www.w3.org/2000/svg\" height=\"24px\"viewBox=\"0 0 24 24\"\n",
              "       width=\"24px\">\n",
              "    <path d=\"M0 0h24v24H0V0z\" fill=\"none\"/>\n",
              "    <path d=\"M18.56 5.44l.94 2.06.94-2.06 2.06-.94-2.06-.94-.94-2.06-.94 2.06-2.06.94zm-11 1L8.5 8.5l.94-2.06 2.06-.94-2.06-.94L8.5 2.5l-.94 2.06-2.06.94zm10 10l.94 2.06.94-2.06 2.06-.94-2.06-.94-.94-2.06-.94 2.06-2.06.94z\"/><path d=\"M17.41 7.96l-1.37-1.37c-.4-.4-.92-.59-1.43-.59-.52 0-1.04.2-1.43.59L10.3 9.45l-7.72 7.72c-.78.78-.78 2.05 0 2.83L4 21.41c.39.39.9.59 1.41.59.51 0 1.02-.2 1.41-.59l7.78-7.78 2.81-2.81c.8-.78.8-2.07 0-2.86zM5.41 20L4 18.59l7.72-7.72 1.47 1.35L5.41 20z\"/>\n",
              "  </svg>\n",
              "      </button>\n",
              "      \n",
              "  <style>\n",
              "    .colab-df-container {\n",
              "      display:flex;\n",
              "      flex-wrap:wrap;\n",
              "      gap: 12px;\n",
              "    }\n",
              "\n",
              "    .colab-df-convert {\n",
              "      background-color: #E8F0FE;\n",
              "      border: none;\n",
              "      border-radius: 50%;\n",
              "      cursor: pointer;\n",
              "      display: none;\n",
              "      fill: #1967D2;\n",
              "      height: 32px;\n",
              "      padding: 0 0 0 0;\n",
              "      width: 32px;\n",
              "    }\n",
              "\n",
              "    .colab-df-convert:hover {\n",
              "      background-color: #E2EBFA;\n",
              "      box-shadow: 0px 1px 2px rgba(60, 64, 67, 0.3), 0px 1px 3px 1px rgba(60, 64, 67, 0.15);\n",
              "      fill: #174EA6;\n",
              "    }\n",
              "\n",
              "    [theme=dark] .colab-df-convert {\n",
              "      background-color: #3B4455;\n",
              "      fill: #D2E3FC;\n",
              "    }\n",
              "\n",
              "    [theme=dark] .colab-df-convert:hover {\n",
              "      background-color: #434B5C;\n",
              "      box-shadow: 0px 1px 3px 1px rgba(0, 0, 0, 0.15);\n",
              "      filter: drop-shadow(0px 1px 2px rgba(0, 0, 0, 0.3));\n",
              "      fill: #FFFFFF;\n",
              "    }\n",
              "  </style>\n",
              "\n",
              "      <script>\n",
              "        const buttonEl =\n",
              "          document.querySelector('#df-4c78d785-b870-4dc9-a0d2-c6187ea2770c button.colab-df-convert');\n",
              "        buttonEl.style.display =\n",
              "          google.colab.kernel.accessAllowed ? 'block' : 'none';\n",
              "\n",
              "        async function convertToInteractive(key) {\n",
              "          const element = document.querySelector('#df-4c78d785-b870-4dc9-a0d2-c6187ea2770c');\n",
              "          const dataTable =\n",
              "            await google.colab.kernel.invokeFunction('convertToInteractive',\n",
              "                                                     [key], {});\n",
              "          if (!dataTable) return;\n",
              "\n",
              "          const docLinkHtml = 'Like what you see? Visit the ' +\n",
              "            '<a target=\"_blank\" href=https://colab.research.google.com/notebooks/data_table.ipynb>data table notebook</a>'\n",
              "            + ' to learn more about interactive tables.';\n",
              "          element.innerHTML = '';\n",
              "          dataTable['output_type'] = 'display_data';\n",
              "          await google.colab.output.renderOutput(dataTable, element);\n",
              "          const docLink = document.createElement('div');\n",
              "          docLink.innerHTML = docLinkHtml;\n",
              "          element.appendChild(docLink);\n",
              "        }\n",
              "      </script>\n",
              "    </div>\n",
              "  </div>\n",
              "  "
            ]
          },
          "metadata": {},
          "execution_count": 93
        }
      ]
    },
    {
      "cell_type": "markdown",
      "source": [
        "## Initial questions about judge:\n",
        "- does any judge prefers to vote 1 or 0\n",
        "- does any judge who votes 1 has high percentage leads to win side\n",
        "- does judges have same perefernce ( like if he/she votes one, there is a high percentage that the other one would vote 1 too) or speakers\n",
        "\n",
        "(trying to transfer them into apply + function, but haven't success)"
      ],
      "metadata": {
        "id": "3xXBDirpHxno"
      }
    },
    {
      "cell_type": "code",
      "source": [
        "import json\n",
        "\n",
        "dfconc = df_convos.copy()\n",
        "dfconc = dfconc.loc[~(dfconc.loc[:,'meta.win_side'].isna()) &\n",
        "                    ~(dfconc.loc[:,'meta.votes_side'].isna()), ]\n",
        "dfconc.reset_index(inplace=True)\n",
        "dfconc.loc[:, 'meta.votes_side'] = dfconc.loc[:, 'meta.votes_side'].apply(lambda x: json.loads(x.replace(\"'\", \"\\\"\")))"
      ],
      "metadata": {
        "id": "hv7rEABfisWG"
      },
      "execution_count": 94,
      "outputs": []
    },
    {
      "cell_type": "markdown",
      "source": [
        "How many yes(1) votes and percentage for each judge"
      ],
      "metadata": {
        "id": "Pu_9arxuqAbX"
      }
    },
    {
      "cell_type": "code",
      "source": [
        "judges_dic1 = {}\n",
        "\n",
        "for judges in dfconc.loc[:, 'meta.votes_side']:\n",
        "    \n",
        "    for judge, vote in judges.items():\n",
        "        if judge not in judges_dic1:\n",
        "            judges_dic1[judge] = 0\n",
        "        judges_dic1[judge] += vote"
      ],
      "metadata": {
        "id": "vOQ6GGCkjFGo"
      },
      "execution_count": 95,
      "outputs": []
    },
    {
      "cell_type": "code",
      "source": [
        "judges_dic2 = {}\n",
        "for judges in dfconc.loc[:, 'meta.votes_side']:\n",
        "    \n",
        "    for judge, vote in judges.items():\n",
        "        if judge not in judges_dic2:\n",
        "            judges_dic2[judge] = 0\n",
        "        judges_dic2[judge] += 1"
      ],
      "metadata": {
        "id": "LFwUnVzEjbI9"
      },
      "execution_count": 96,
      "outputs": []
    },
    {
      "cell_type": "code",
      "source": [
        "dfj_info = pd.DataFrame({'judges': judges_dic1.keys(),\n",
        "                              'yes_ct': judges_dic1.values(),\n",
        "                              'total_ct':judges_dic2.values()})\n",
        "dfj_info.loc[:, 'yes_rate'] = dfj_info.loc[:, 'yes_ct'] / dfj_info.loc[:, 'total_ct']"
      ],
      "metadata": {
        "id": "BGz-g2Jyjd-4"
      },
      "execution_count": 97,
      "outputs": []
    },
    {
      "cell_type": "markdown",
      "source": [
        "Does any judge who votes 1 has high percentage leads to win side"
      ],
      "metadata": {
        "id": "ongQ9aFzqMAx"
      }
    },
    {
      "cell_type": "code",
      "source": [
        "judges_dic3 = {}\n",
        "for i in range(len(dfconc)):\n",
        "\n",
        "    for judge, vote in dfconc.loc[:, 'meta.votes_side'][i].items():\n",
        "\n",
        "        if judge not in judges_dic3:\n",
        "            judges_dic3[judge] = 0\n",
        "        if (vote == 1) and (dfconc.loc[:, 'meta.win_side'][i] == 1.0):\n",
        "            judges_dic3[judge] += 1"
      ],
      "metadata": {
        "id": "lIH4LSMYjjbe"
      },
      "execution_count": 98,
      "outputs": []
    },
    {
      "cell_type": "code",
      "source": [
        "dfj_info.loc[:, 'win_ct'] = judges_dic3.values()\n",
        "dfj_info.loc[:, 'yes_win_rate'] = dfj_info.loc[:, 'win_ct'] / dfj_info.loc[:, 'yes_ct']\n",
        "dfj_info.loc[:, 'total_win_rate'] = dfj_info.loc[:, 'win_ct'] / dfj_info.loc[:, 'total_ct']"
      ],
      "metadata": {
        "id": "UJm1UzOijrpQ"
      },
      "execution_count": 99,
      "outputs": []
    },
    {
      "cell_type": "markdown",
      "source": [
        "Who has the same agreement"
      ],
      "metadata": {
        "id": "Z73D7f2Ooyx1"
      }
    },
    {
      "cell_type": "code",
      "source": [
        "judge_dic4 = {}\n",
        "\n",
        "for judge in dfj_info['judges']:\n",
        "    judge_dic4[judge] = {}\n",
        "    for i in range(len(dfconc)):\n",
        "        for judge2, vote in dfconc.loc[:, 'meta.votes_side'][i].items():\n",
        "            if judge2 != judge and judge in dfconc.loc[:, 'meta.votes_side'][i]:\n",
        "                if judge2 not in judge_dic4[judge]:\n",
        "                    judge_dic4[judge][judge2] = {}\n",
        "                    judge_dic4[judge][judge2]['1_1'] = 0\n",
        "                    judge_dic4[judge][judge2]['1_0'] = 0\n",
        "                    judge_dic4[judge][judge2]['0_1'] = 0\n",
        "                    judge_dic4[judge][judge2]['0_0'] = 0\n",
        "                    judge_dic4[judge][judge2]['total'] = 0\n",
        "                    \n",
        "                judge_dic4[judge][judge2]['total'] += 1\n",
        "                    \n",
        "                if dfconc.loc[:, 'meta.votes_side'][i][judge] == 1:\n",
        "                    if vote == 1:\n",
        "                        judge_dic4[judge][judge2]['1_1'] += 1\n",
        "                    else:\n",
        "                        judge_dic4[judge][judge2]['1_0'] += 1\n",
        "                else:\n",
        "                    if vote == 1:\n",
        "                        judge_dic4[judge][judge2]['0_1'] += 1\n",
        "                    else:\n",
        "                        judge_dic4[judge][judge2]['0_0'] += 1"
      ],
      "metadata": {
        "id": "qEx-BOpAj4C3"
      },
      "execution_count": 100,
      "outputs": []
    },
    {
      "cell_type": "code",
      "source": [
        "judge_dic5 = {}\n",
        "for judge, peers in judge_dic4.items():\n",
        "    judge_dic5[judge] = []\n",
        "    for peer, vote in peers.items():\n",
        "\n",
        "        if vote['1_1'] / vote['total'] > 0.55: # set a threshold\n",
        "            judge_dic5[judge].append(peer)"
      ],
      "metadata": {
        "id": "K7zxi8gHkDfC"
      },
      "execution_count": 101,
      "outputs": []
    },
    {
      "cell_type": "code",
      "source": [
        "dfj_info.loc[:, 'friends'] = judge_dic5.values()\n",
        "dfj_info.loc[:, 'j_short'] = dfj_info.loc[:, 'judges'].str[3:7]"
      ],
      "metadata": {
        "id": "ELsJifQPkLSy"
      },
      "execution_count": 102,
      "outputs": []
    },
    {
      "cell_type": "code",
      "source": [
        "dfj_info"
      ],
      "metadata": {
        "colab": {
          "base_uri": "https://localhost:8080/",
          "height": 519
        },
        "id": "LNGl780wncn9",
        "outputId": "1924781a-70ab-4a3a-df40-3f09a9508c76"
      },
      "execution_count": 103,
      "outputs": [
        {
          "output_type": "execute_result",
          "data": {
            "text/plain": [
              "                    judges  yes_ct  total_ct  yes_rate  win_ct  yes_win_rate  \\\n",
              "0   j__william_h_rehnquist     198       291  0.680412     174      0.878788   \n",
              "1     j__john_paul_stevens     384       674  0.569733     327      0.851562   \n",
              "2    j__sandra_day_oconnor     225       316  0.712025     205      0.911111   \n",
              "3        j__antonin_scalia     648      1035  0.626087     568      0.876543   \n",
              "4     j__anthony_m_kennedy     802      1216  0.659539     753      0.938903   \n",
              "5        j__david_h_souter     359       596  0.602349     315      0.877437   \n",
              "6       j__clarence_thomas     746      1285  0.580545     661      0.886059   \n",
              "7   j__ruth_bader_ginsburg     732      1288  0.568323     653      0.892077   \n",
              "8      j__stephen_g_breyer     779      1275  0.610980     688      0.883184   \n",
              "9     j__john_g_roberts_jr     625       975  0.641026     580      0.928000   \n",
              "10    j__samuel_a_alito_jr     558       941  0.592986     506      0.906810   \n",
              "11      j__sonia_sotomayor     390       678  0.575221     347      0.889744   \n",
              "12          j__elena_kagan     335       571  0.586690     306      0.913433   \n",
              "13         j__neil_gorsuch      89       144  0.618056      78      0.876404   \n",
              "14    j__brett_m_kavanaugh      41        62  0.661290      36      0.878049   \n",
              "\n",
              "    total_win_rate                                            friends j_short  \n",
              "0         0.597938  [j__sandra_day_oconnor, j__antonin_scalia, j__...    will  \n",
              "1         0.485163                                                 []    john  \n",
              "2         0.648734  [j__william_h_rehnquist, j__anthony_m_kennedy,...    sand  \n",
              "3         0.548792  [j__william_h_rehnquist, j__clarence_thomas, j...    anto  \n",
              "4         0.619243  [j__william_h_rehnquist, j__sandra_day_oconnor...    anth  \n",
              "5         0.528523                              [j__stephen_g_breyer]    davi  \n",
              "6         0.514397        [j__william_h_rehnquist, j__antonin_scalia]    clar  \n",
              "7         0.506988                                                 []    ruth  \n",
              "8         0.539608         [j__sandra_day_oconnor, j__david_h_souter]    step  \n",
              "9         0.594872  [j__antonin_scalia, j__anthony_m_kennedy, j__s...    john  \n",
              "10        0.537726       [j__john_g_roberts_jr, j__brett_m_kavanaugh]    samu  \n",
              "11        0.511799                                                 []    soni  \n",
              "12        0.535902                                                 []    elen  \n",
              "13        0.541667                             [j__anthony_m_kennedy]    neil  \n",
              "14        0.580645       [j__john_g_roberts_jr, j__samuel_a_alito_jr]    bret  "
            ],
            "text/html": [
              "\n",
              "  <div id=\"df-aaa80076-cf5c-4a05-971c-c12e7d18ddcd\">\n",
              "    <div class=\"colab-df-container\">\n",
              "      <div>\n",
              "<style scoped>\n",
              "    .dataframe tbody tr th:only-of-type {\n",
              "        vertical-align: middle;\n",
              "    }\n",
              "\n",
              "    .dataframe tbody tr th {\n",
              "        vertical-align: top;\n",
              "    }\n",
              "\n",
              "    .dataframe thead th {\n",
              "        text-align: right;\n",
              "    }\n",
              "</style>\n",
              "<table border=\"1\" class=\"dataframe\">\n",
              "  <thead>\n",
              "    <tr style=\"text-align: right;\">\n",
              "      <th></th>\n",
              "      <th>judges</th>\n",
              "      <th>yes_ct</th>\n",
              "      <th>total_ct</th>\n",
              "      <th>yes_rate</th>\n",
              "      <th>win_ct</th>\n",
              "      <th>yes_win_rate</th>\n",
              "      <th>total_win_rate</th>\n",
              "      <th>friends</th>\n",
              "      <th>j_short</th>\n",
              "    </tr>\n",
              "  </thead>\n",
              "  <tbody>\n",
              "    <tr>\n",
              "      <th>0</th>\n",
              "      <td>j__william_h_rehnquist</td>\n",
              "      <td>198</td>\n",
              "      <td>291</td>\n",
              "      <td>0.680412</td>\n",
              "      <td>174</td>\n",
              "      <td>0.878788</td>\n",
              "      <td>0.597938</td>\n",
              "      <td>[j__sandra_day_oconnor, j__antonin_scalia, j__...</td>\n",
              "      <td>will</td>\n",
              "    </tr>\n",
              "    <tr>\n",
              "      <th>1</th>\n",
              "      <td>j__john_paul_stevens</td>\n",
              "      <td>384</td>\n",
              "      <td>674</td>\n",
              "      <td>0.569733</td>\n",
              "      <td>327</td>\n",
              "      <td>0.851562</td>\n",
              "      <td>0.485163</td>\n",
              "      <td>[]</td>\n",
              "      <td>john</td>\n",
              "    </tr>\n",
              "    <tr>\n",
              "      <th>2</th>\n",
              "      <td>j__sandra_day_oconnor</td>\n",
              "      <td>225</td>\n",
              "      <td>316</td>\n",
              "      <td>0.712025</td>\n",
              "      <td>205</td>\n",
              "      <td>0.911111</td>\n",
              "      <td>0.648734</td>\n",
              "      <td>[j__william_h_rehnquist, j__anthony_m_kennedy,...</td>\n",
              "      <td>sand</td>\n",
              "    </tr>\n",
              "    <tr>\n",
              "      <th>3</th>\n",
              "      <td>j__antonin_scalia</td>\n",
              "      <td>648</td>\n",
              "      <td>1035</td>\n",
              "      <td>0.626087</td>\n",
              "      <td>568</td>\n",
              "      <td>0.876543</td>\n",
              "      <td>0.548792</td>\n",
              "      <td>[j__william_h_rehnquist, j__clarence_thomas, j...</td>\n",
              "      <td>anto</td>\n",
              "    </tr>\n",
              "    <tr>\n",
              "      <th>4</th>\n",
              "      <td>j__anthony_m_kennedy</td>\n",
              "      <td>802</td>\n",
              "      <td>1216</td>\n",
              "      <td>0.659539</td>\n",
              "      <td>753</td>\n",
              "      <td>0.938903</td>\n",
              "      <td>0.619243</td>\n",
              "      <td>[j__william_h_rehnquist, j__sandra_day_oconnor...</td>\n",
              "      <td>anth</td>\n",
              "    </tr>\n",
              "    <tr>\n",
              "      <th>5</th>\n",
              "      <td>j__david_h_souter</td>\n",
              "      <td>359</td>\n",
              "      <td>596</td>\n",
              "      <td>0.602349</td>\n",
              "      <td>315</td>\n",
              "      <td>0.877437</td>\n",
              "      <td>0.528523</td>\n",
              "      <td>[j__stephen_g_breyer]</td>\n",
              "      <td>davi</td>\n",
              "    </tr>\n",
              "    <tr>\n",
              "      <th>6</th>\n",
              "      <td>j__clarence_thomas</td>\n",
              "      <td>746</td>\n",
              "      <td>1285</td>\n",
              "      <td>0.580545</td>\n",
              "      <td>661</td>\n",
              "      <td>0.886059</td>\n",
              "      <td>0.514397</td>\n",
              "      <td>[j__william_h_rehnquist, j__antonin_scalia]</td>\n",
              "      <td>clar</td>\n",
              "    </tr>\n",
              "    <tr>\n",
              "      <th>7</th>\n",
              "      <td>j__ruth_bader_ginsburg</td>\n",
              "      <td>732</td>\n",
              "      <td>1288</td>\n",
              "      <td>0.568323</td>\n",
              "      <td>653</td>\n",
              "      <td>0.892077</td>\n",
              "      <td>0.506988</td>\n",
              "      <td>[]</td>\n",
              "      <td>ruth</td>\n",
              "    </tr>\n",
              "    <tr>\n",
              "      <th>8</th>\n",
              "      <td>j__stephen_g_breyer</td>\n",
              "      <td>779</td>\n",
              "      <td>1275</td>\n",
              "      <td>0.610980</td>\n",
              "      <td>688</td>\n",
              "      <td>0.883184</td>\n",
              "      <td>0.539608</td>\n",
              "      <td>[j__sandra_day_oconnor, j__david_h_souter]</td>\n",
              "      <td>step</td>\n",
              "    </tr>\n",
              "    <tr>\n",
              "      <th>9</th>\n",
              "      <td>j__john_g_roberts_jr</td>\n",
              "      <td>625</td>\n",
              "      <td>975</td>\n",
              "      <td>0.641026</td>\n",
              "      <td>580</td>\n",
              "      <td>0.928000</td>\n",
              "      <td>0.594872</td>\n",
              "      <td>[j__antonin_scalia, j__anthony_m_kennedy, j__s...</td>\n",
              "      <td>john</td>\n",
              "    </tr>\n",
              "    <tr>\n",
              "      <th>10</th>\n",
              "      <td>j__samuel_a_alito_jr</td>\n",
              "      <td>558</td>\n",
              "      <td>941</td>\n",
              "      <td>0.592986</td>\n",
              "      <td>506</td>\n",
              "      <td>0.906810</td>\n",
              "      <td>0.537726</td>\n",
              "      <td>[j__john_g_roberts_jr, j__brett_m_kavanaugh]</td>\n",
              "      <td>samu</td>\n",
              "    </tr>\n",
              "    <tr>\n",
              "      <th>11</th>\n",
              "      <td>j__sonia_sotomayor</td>\n",
              "      <td>390</td>\n",
              "      <td>678</td>\n",
              "      <td>0.575221</td>\n",
              "      <td>347</td>\n",
              "      <td>0.889744</td>\n",
              "      <td>0.511799</td>\n",
              "      <td>[]</td>\n",
              "      <td>soni</td>\n",
              "    </tr>\n",
              "    <tr>\n",
              "      <th>12</th>\n",
              "      <td>j__elena_kagan</td>\n",
              "      <td>335</td>\n",
              "      <td>571</td>\n",
              "      <td>0.586690</td>\n",
              "      <td>306</td>\n",
              "      <td>0.913433</td>\n",
              "      <td>0.535902</td>\n",
              "      <td>[]</td>\n",
              "      <td>elen</td>\n",
              "    </tr>\n",
              "    <tr>\n",
              "      <th>13</th>\n",
              "      <td>j__neil_gorsuch</td>\n",
              "      <td>89</td>\n",
              "      <td>144</td>\n",
              "      <td>0.618056</td>\n",
              "      <td>78</td>\n",
              "      <td>0.876404</td>\n",
              "      <td>0.541667</td>\n",
              "      <td>[j__anthony_m_kennedy]</td>\n",
              "      <td>neil</td>\n",
              "    </tr>\n",
              "    <tr>\n",
              "      <th>14</th>\n",
              "      <td>j__brett_m_kavanaugh</td>\n",
              "      <td>41</td>\n",
              "      <td>62</td>\n",
              "      <td>0.661290</td>\n",
              "      <td>36</td>\n",
              "      <td>0.878049</td>\n",
              "      <td>0.580645</td>\n",
              "      <td>[j__john_g_roberts_jr, j__samuel_a_alito_jr]</td>\n",
              "      <td>bret</td>\n",
              "    </tr>\n",
              "  </tbody>\n",
              "</table>\n",
              "</div>\n",
              "      <button class=\"colab-df-convert\" onclick=\"convertToInteractive('df-aaa80076-cf5c-4a05-971c-c12e7d18ddcd')\"\n",
              "              title=\"Convert this dataframe to an interactive table.\"\n",
              "              style=\"display:none;\">\n",
              "        \n",
              "  <svg xmlns=\"http://www.w3.org/2000/svg\" height=\"24px\"viewBox=\"0 0 24 24\"\n",
              "       width=\"24px\">\n",
              "    <path d=\"M0 0h24v24H0V0z\" fill=\"none\"/>\n",
              "    <path d=\"M18.56 5.44l.94 2.06.94-2.06 2.06-.94-2.06-.94-.94-2.06-.94 2.06-2.06.94zm-11 1L8.5 8.5l.94-2.06 2.06-.94-2.06-.94L8.5 2.5l-.94 2.06-2.06.94zm10 10l.94 2.06.94-2.06 2.06-.94-2.06-.94-.94-2.06-.94 2.06-2.06.94z\"/><path d=\"M17.41 7.96l-1.37-1.37c-.4-.4-.92-.59-1.43-.59-.52 0-1.04.2-1.43.59L10.3 9.45l-7.72 7.72c-.78.78-.78 2.05 0 2.83L4 21.41c.39.39.9.59 1.41.59.51 0 1.02-.2 1.41-.59l7.78-7.78 2.81-2.81c.8-.78.8-2.07 0-2.86zM5.41 20L4 18.59l7.72-7.72 1.47 1.35L5.41 20z\"/>\n",
              "  </svg>\n",
              "      </button>\n",
              "      \n",
              "  <style>\n",
              "    .colab-df-container {\n",
              "      display:flex;\n",
              "      flex-wrap:wrap;\n",
              "      gap: 12px;\n",
              "    }\n",
              "\n",
              "    .colab-df-convert {\n",
              "      background-color: #E8F0FE;\n",
              "      border: none;\n",
              "      border-radius: 50%;\n",
              "      cursor: pointer;\n",
              "      display: none;\n",
              "      fill: #1967D2;\n",
              "      height: 32px;\n",
              "      padding: 0 0 0 0;\n",
              "      width: 32px;\n",
              "    }\n",
              "\n",
              "    .colab-df-convert:hover {\n",
              "      background-color: #E2EBFA;\n",
              "      box-shadow: 0px 1px 2px rgba(60, 64, 67, 0.3), 0px 1px 3px 1px rgba(60, 64, 67, 0.15);\n",
              "      fill: #174EA6;\n",
              "    }\n",
              "\n",
              "    [theme=dark] .colab-df-convert {\n",
              "      background-color: #3B4455;\n",
              "      fill: #D2E3FC;\n",
              "    }\n",
              "\n",
              "    [theme=dark] .colab-df-convert:hover {\n",
              "      background-color: #434B5C;\n",
              "      box-shadow: 0px 1px 3px 1px rgba(0, 0, 0, 0.15);\n",
              "      filter: drop-shadow(0px 1px 2px rgba(0, 0, 0, 0.3));\n",
              "      fill: #FFFFFF;\n",
              "    }\n",
              "  </style>\n",
              "\n",
              "      <script>\n",
              "        const buttonEl =\n",
              "          document.querySelector('#df-aaa80076-cf5c-4a05-971c-c12e7d18ddcd button.colab-df-convert');\n",
              "        buttonEl.style.display =\n",
              "          google.colab.kernel.accessAllowed ? 'block' : 'none';\n",
              "\n",
              "        async function convertToInteractive(key) {\n",
              "          const element = document.querySelector('#df-aaa80076-cf5c-4a05-971c-c12e7d18ddcd');\n",
              "          const dataTable =\n",
              "            await google.colab.kernel.invokeFunction('convertToInteractive',\n",
              "                                                     [key], {});\n",
              "          if (!dataTable) return;\n",
              "\n",
              "          const docLinkHtml = 'Like what you see? Visit the ' +\n",
              "            '<a target=\"_blank\" href=https://colab.research.google.com/notebooks/data_table.ipynb>data table notebook</a>'\n",
              "            + ' to learn more about interactive tables.';\n",
              "          element.innerHTML = '';\n",
              "          dataTable['output_type'] = 'display_data';\n",
              "          await google.colab.output.renderOutput(dataTable, element);\n",
              "          const docLink = document.createElement('div');\n",
              "          docLink.innerHTML = docLinkHtml;\n",
              "          element.appendChild(docLink);\n",
              "        }\n",
              "      </script>\n",
              "    </div>\n",
              "  </div>\n",
              "  "
            ]
          },
          "metadata": {},
          "execution_count": 103
        }
      ]
    },
    {
      "cell_type": "code",
      "source": [
        "plt.figure(figsize=(10, 6))\n",
        "sns.barplot(x='j_short', y='yes_win_rate',color = 'steelblue', data = dfj_info)"
      ],
      "metadata": {
        "colab": {
          "base_uri": "https://localhost:8080/",
          "height": 560
        },
        "id": "X_TzSj0qlfcv",
        "outputId": "a2edfee2-0ac6-4147-9709-6ecb485c68f2"
      },
      "execution_count": 104,
      "outputs": [
        {
          "output_type": "execute_result",
          "data": {
            "text/plain": [
              "<Axes: xlabel='j_short', ylabel='yes_win_rate'>"
            ]
          },
          "metadata": {},
          "execution_count": 104
        },
        {
          "output_type": "display_data",
          "data": {
            "text/plain": [
              "<Figure size 1000x600 with 1 Axes>"
            ],
            "image/png": "[encoded data removed]"
          },
          "metadata": {}
        }
      ]
    },
    {
      "cell_type": "code",
      "source": [
        "plt.figure(figsize=(10, 6))\n",
        "sns.barplot(x='j_short', y='total_win_rate',color = 'steelblue', data = dfj_info)"
      ],
      "metadata": {
        "colab": {
          "base_uri": "https://localhost:8080/",
          "height": 560
        },
        "id": "e0xcmH_pnx9P",
        "outputId": "b5d30b77-ec42-41ba-ec63-287c1f899a76"
      },
      "execution_count": 105,
      "outputs": [
        {
          "output_type": "execute_result",
          "data": {
            "text/plain": [
              "<Axes: xlabel='j_short', ylabel='total_win_rate'>"
            ]
          },
          "metadata": {},
          "execution_count": 105
        },
        {
          "output_type": "display_data",
          "data": {
            "text/plain": [
              "<Figure size 1000x600 with 1 Axes>"
            ],
            "image/png": "[encoded data removed]"
          },
          "metadata": {}
        }
      ]
    },
    {
      "cell_type": "markdown",
      "source": [
        "## Test Prediction without Further Preprocess and not setting hyperparameter"
      ],
      "metadata": {
        "id": "VcKdrerVNBTB"
      }
    },
    {
      "cell_type": "code",
      "source": [
        "import nltk\n",
        "import re\n",
        "nltk.download('stopwords')\n",
        "nltk.download('punkt')\n",
        "nltk.download('wordnet')\n",
        "from nltk.corpus import stopwords\n",
        "from nltk.stem import WordNetLemmatizer\n",
        "from sklearn.feature_extraction.text import TfidfVectorizer\n",
        "from sklearn.model_selection import train_test_split"
      ],
      "metadata": {
        "colab": {
          "base_uri": "https://localhost:8080/"
        },
        "id": "4NMoVyvrNY2O",
        "outputId": "34541e72-58a5-4e5b-a78e-023cdcbdaa64"
      },
      "execution_count": 106,
      "outputs": [
        {
          "output_type": "stream",
          "name": "stderr",
          "text": [
            "[nltk_data] Downloading package stopwords to /root/nltk_data...\n",
            "[nltk_data]   Package stopwords is already up-to-date!\n",
            "[nltk_data] Downloading package punkt to /root/nltk_data...\n",
            "[nltk_data]   Package punkt is already up-to-date!\n",
            "[nltk_data] Downloading package wordnet to /root/nltk_data...\n",
            "[nltk_data]   Package wordnet is already up-to-date!\n"
          ]
        }
      ]
    },
    {
      "cell_type": "code",
      "source": [
        "# combine text from all utterances in a conversation back into one string based on the conversation_id\n",
        "utt_per_conv = df_utts.groupby('conversation_id')['text'].apply(lambda x: ' '.join(x)).reset_index()\n",
        "\n",
        "# add the combined text to the conversations dataframe, merge on conversation_id in utt_per_conv and id in df_convo\n",
        "df_convos_merge = df_convos.merge(utt_per_conv, left_on='id', right_on='conversation_id', how='left')\n",
        "\n",
        "df_convos_merge.head(1)"
      ],
      "metadata": {
        "colab": {
          "base_uri": "https://localhost:8080/",
          "height": 194
        },
        "id": "3j_isOd_NGsy",
        "outputId": "e252ab9a-5e92-45dd-9cf7-021f3ff76203"
      },
      "execution_count": 107,
      "outputs": [
        {
          "output_type": "execute_result",
          "data": {
            "text/plain": [
              "      id vectors meta.case_id  \\\n",
              "0  22149      []  2001_01-584   \n",
              "\n",
              "                                      meta.advocates  meta.win_side  \\\n",
              "0  {'john_crabtree': {'side': 1, 'role': 'on beha...            0.0   \n",
              "\n",
              "                                     meta.votes_side  year   respondents  \\\n",
              "0  {'j__william_h_rehnquist': 0, 'j__john_paul_st...  2001  glen_d_nager   \n",
              "\n",
              "      petitioner                                      amicus_curiae  \\\n",
              "0  john_crabtree  alfred_w_blumrosen, ruth_g_blumrosen, archibal...   \n",
              "\n",
              "   conversation_id                                               text  \n",
              "0            22149  We'll hear argument now on number 01-584, Wand...  "
            ],
            "text/html": [
              "\n",
              "  <div id=\"df-a9634ac4-6bf1-4b40-b0c5-3c9fb63b027d\">\n",
              "    <div class=\"colab-df-container\">\n",
              "      <div>\n",
              "<style scoped>\n",
              "    .dataframe tbody tr th:only-of-type {\n",
              "        vertical-align: middle;\n",
              "    }\n",
              "\n",
              "    .dataframe tbody tr th {\n",
              "        vertical-align: top;\n",
              "    }\n",
              "\n",
              "    .dataframe thead th {\n",
              "        text-align: right;\n",
              "    }\n",
              "</style>\n",
              "<table border=\"1\" class=\"dataframe\">\n",
              "  <thead>\n",
              "    <tr style=\"text-align: right;\">\n",
              "      <th></th>\n",
              "      <th>id</th>\n",
              "      <th>vectors</th>\n",
              "      <th>meta.case_id</th>\n",
              "      <th>meta.advocates</th>\n",
              "      <th>meta.win_side</th>\n",
              "      <th>meta.votes_side</th>\n",
              "      <th>year</th>\n",
              "      <th>respondents</th>\n",
              "      <th>petitioner</th>\n",
              "      <th>amicus_curiae</th>\n",
              "      <th>conversation_id</th>\n",
              "      <th>text</th>\n",
              "    </tr>\n",
              "  </thead>\n",
              "  <tbody>\n",
              "    <tr>\n",
              "      <th>0</th>\n",
              "      <td>22149</td>\n",
              "      <td>[]</td>\n",
              "      <td>2001_01-584</td>\n",
              "      <td>{'john_crabtree': {'side': 1, 'role': 'on beha...</td>\n",
              "      <td>0.0</td>\n",
              "      <td>{'j__william_h_rehnquist': 0, 'j__john_paul_st...</td>\n",
              "      <td>2001</td>\n",
              "      <td>glen_d_nager</td>\n",
              "      <td>john_crabtree</td>\n",
              "      <td>alfred_w_blumrosen, ruth_g_blumrosen, archibal...</td>\n",
              "      <td>22149</td>\n",
              "      <td>We'll hear argument now on number 01-584, Wand...</td>\n",
              "    </tr>\n",
              "  </tbody>\n",
              "</table>\n",
              "</div>\n",
              "      <button class=\"colab-df-convert\" onclick=\"convertToInteractive('df-a9634ac4-6bf1-4b40-b0c5-3c9fb63b027d')\"\n",
              "              title=\"Convert this dataframe to an interactive table.\"\n",
              "              style=\"display:none;\">\n",
              "        \n",
              "  <svg xmlns=\"http://www.w3.org/2000/svg\" height=\"24px\"viewBox=\"0 0 24 24\"\n",
              "       width=\"24px\">\n",
              "    <path d=\"M0 0h24v24H0V0z\" fill=\"none\"/>\n",
              "    <path d=\"M18.56 5.44l.94 2.06.94-2.06 2.06-.94-2.06-.94-.94-2.06-.94 2.06-2.06.94zm-11 1L8.5 8.5l.94-2.06 2.06-.94-2.06-.94L8.5 2.5l-.94 2.06-2.06.94zm10 10l.94 2.06.94-2.06 2.06-.94-2.06-.94-.94-2.06-.94 2.06-2.06.94z\"/><path d=\"M17.41 7.96l-1.37-1.37c-.4-.4-.92-.59-1.43-.59-.52 0-1.04.2-1.43.59L10.3 9.45l-7.72 7.72c-.78.78-.78 2.05 0 2.83L4 21.41c.39.39.9.59 1.41.59.51 0 1.02-.2 1.41-.59l7.78-7.78 2.81-2.81c.8-.78.8-2.07 0-2.86zM5.41 20L4 18.59l7.72-7.72 1.47 1.35L5.41 20z\"/>\n",
              "  </svg>\n",
              "      </button>\n",
              "      \n",
              "  <style>\n",
              "    .colab-df-container {\n",
              "      display:flex;\n",
              "      flex-wrap:wrap;\n",
              "      gap: 12px;\n",
              "    }\n",
              "\n",
              "    .colab-df-convert {\n",
              "      background-color: #E8F0FE;\n",
              "      border: none;\n",
              "      border-radius: 50%;\n",
              "      cursor: pointer;\n",
              "      display: none;\n",
              "      fill: #1967D2;\n",
              "      height: 32px;\n",
              "      padding: 0 0 0 0;\n",
              "      width: 32px;\n",
              "    }\n",
              "\n",
              "    .colab-df-convert:hover {\n",
              "      background-color: #E2EBFA;\n",
              "      box-shadow: 0px 1px 2px rgba(60, 64, 67, 0.3), 0px 1px 3px 1px rgba(60, 64, 67, 0.15);\n",
              "      fill: #174EA6;\n",
              "    }\n",
              "\n",
              "    [theme=dark] .colab-df-convert {\n",
              "      background-color: #3B4455;\n",
              "      fill: #D2E3FC;\n",
              "    }\n",
              "\n",
              "    [theme=dark] .colab-df-convert:hover {\n",
              "      background-color: #434B5C;\n",
              "      box-shadow: 0px 1px 3px 1px rgba(0, 0, 0, 0.15);\n",
              "      filter: drop-shadow(0px 1px 2px rgba(0, 0, 0, 0.3));\n",
              "      fill: #FFFFFF;\n",
              "    }\n",
              "  </style>\n",
              "\n",
              "      <script>\n",
              "        const buttonEl =\n",
              "          document.querySelector('#df-a9634ac4-6bf1-4b40-b0c5-3c9fb63b027d button.colab-df-convert');\n",
              "        buttonEl.style.display =\n",
              "          google.colab.kernel.accessAllowed ? 'block' : 'none';\n",
              "\n",
              "        async function convertToInteractive(key) {\n",
              "          const element = document.querySelector('#df-a9634ac4-6bf1-4b40-b0c5-3c9fb63b027d');\n",
              "          const dataTable =\n",
              "            await google.colab.kernel.invokeFunction('convertToInteractive',\n",
              "                                                     [key], {});\n",
              "          if (!dataTable) return;\n",
              "\n",
              "          const docLinkHtml = 'Like what you see? Visit the ' +\n",
              "            '<a target=\"_blank\" href=https://colab.research.google.com/notebooks/data_table.ipynb>data table notebook</a>'\n",
              "            + ' to learn more about interactive tables.';\n",
              "          element.innerHTML = '';\n",
              "          dataTable['output_type'] = 'display_data';\n",
              "          await google.colab.output.renderOutput(dataTable, element);\n",
              "          const docLink = document.createElement('div');\n",
              "          docLink.innerHTML = docLinkHtml;\n",
              "          element.appendChild(docLink);\n",
              "        }\n",
              "      </script>\n",
              "    </div>\n",
              "  </div>\n",
              "  "
            ]
          },
          "metadata": {},
          "execution_count": 107
        }
      ]
    },
    {
      "cell_type": "code",
      "source": [
        "# Cleaning the text\n",
        "def preprocess_text(text):\n",
        "    text = text.lower() # Lowercase the text\n",
        "    text = re.sub('[^a-z]+', ' ', text)  # Remove special characters and numbers\n",
        "    words = nltk.word_tokenize(text) # Tokenize the text\n",
        "    stop_words = set(stopwords.words('english')) # Remove stopwords\n",
        "    words = [word for word in words if word not in stop_words]\n",
        "    #lemmatizer = WordNetLemmatizer() # Lemmatize the words comment because slow\n",
        "    #words = [lemmatizer.lemmatize(word) for word in words]\n",
        "    text = ' '.join(words) # Reconstruct the text\n",
        "\n",
        "    return text"
      ],
      "metadata": {
        "id": "1lWkRHSSNVUc"
      },
      "execution_count": 108,
      "outputs": []
    },
    {
      "cell_type": "code",
      "source": [
        "text = df_convos_merge.loc[:,['text','meta.win_side']]\n",
        "text['text'] = text['text'].apply(preprocess_text) #apply preprocess\n",
        "text.head(1)"
      ],
      "metadata": {
        "colab": {
          "base_uri": "https://localhost:8080/",
          "height": 80
        },
        "id": "ZWgWaYAJO1zO",
        "outputId": "fce5ab83-b10d-4e57-9819-517805b21677"
      },
      "execution_count": 109,
      "outputs": [
        {
          "output_type": "execute_result",
          "data": {
            "text/plain": [
              "                                                text  meta.win_side\n",
              "0  hear argument number wanda adams vs florida po...            0.0"
            ],
            "text/html": [
              "\n",
              "  <div id=\"df-c4eb0043-d020-43bd-8913-9ce5a74db3d7\">\n",
              "    <div class=\"colab-df-container\">\n",
              "      <div>\n",
              "<style scoped>\n",
              "    .dataframe tbody tr th:only-of-type {\n",
              "        vertical-align: middle;\n",
              "    }\n",
              "\n",
              "    .dataframe tbody tr th {\n",
              "        vertical-align: top;\n",
              "    }\n",
              "\n",
              "    .dataframe thead th {\n",
              "        text-align: right;\n",
              "    }\n",
              "</style>\n",
              "<table border=\"1\" class=\"dataframe\">\n",
              "  <thead>\n",
              "    <tr style=\"text-align: right;\">\n",
              "      <th></th>\n",
              "      <th>text</th>\n",
              "      <th>meta.win_side</th>\n",
              "    </tr>\n",
              "  </thead>\n",
              "  <tbody>\n",
              "    <tr>\n",
              "      <th>0</th>\n",
              "      <td>hear argument number wanda adams vs florida po...</td>\n",
              "      <td>0.0</td>\n",
              "    </tr>\n",
              "  </tbody>\n",
              "</table>\n",
              "</div>\n",
              "      <button class=\"colab-df-convert\" onclick=\"convertToInteractive('df-c4eb0043-d020-43bd-8913-9ce5a74db3d7')\"\n",
              "              title=\"Convert this dataframe to an interactive table.\"\n",
              "              style=\"display:none;\">\n",
              "        \n",
              "  <svg xmlns=\"http://www.w3.org/2000/svg\" height=\"24px\"viewBox=\"0 0 24 24\"\n",
              "       width=\"24px\">\n",
              "    <path d=\"M0 0h24v24H0V0z\" fill=\"none\"/>\n",
              "    <path d=\"M18.56 5.44l.94 2.06.94-2.06 2.06-.94-2.06-.94-.94-2.06-.94 2.06-2.06.94zm-11 1L8.5 8.5l.94-2.06 2.06-.94-2.06-.94L8.5 2.5l-.94 2.06-2.06.94zm10 10l.94 2.06.94-2.06 2.06-.94-2.06-.94-.94-2.06-.94 2.06-2.06.94z\"/><path d=\"M17.41 7.96l-1.37-1.37c-.4-.4-.92-.59-1.43-.59-.52 0-1.04.2-1.43.59L10.3 9.45l-7.72 7.72c-.78.78-.78 2.05 0 2.83L4 21.41c.39.39.9.59 1.41.59.51 0 1.02-.2 1.41-.59l7.78-7.78 2.81-2.81c.8-.78.8-2.07 0-2.86zM5.41 20L4 18.59l7.72-7.72 1.47 1.35L5.41 20z\"/>\n",
              "  </svg>\n",
              "      </button>\n",
              "      \n",
              "  <style>\n",
              "    .colab-df-container {\n",
              "      display:flex;\n",
              "      flex-wrap:wrap;\n",
              "      gap: 12px;\n",
              "    }\n",
              "\n",
              "    .colab-df-convert {\n",
              "      background-color: #E8F0FE;\n",
              "      border: none;\n",
              "      border-radius: 50%;\n",
              "      cursor: pointer;\n",
              "      display: none;\n",
              "      fill: #1967D2;\n",
              "      height: 32px;\n",
              "      padding: 0 0 0 0;\n",
              "      width: 32px;\n",
              "    }\n",
              "\n",
              "    .colab-df-convert:hover {\n",
              "      background-color: #E2EBFA;\n",
              "      box-shadow: 0px 1px 2px rgba(60, 64, 67, 0.3), 0px 1px 3px 1px rgba(60, 64, 67, 0.15);\n",
              "      fill: #174EA6;\n",
              "    }\n",
              "\n",
              "    [theme=dark] .colab-df-convert {\n",
              "      background-color: #3B4455;\n",
              "      fill: #D2E3FC;\n",
              "    }\n",
              "\n",
              "    [theme=dark] .colab-df-convert:hover {\n",
              "      background-color: #434B5C;\n",
              "      box-shadow: 0px 1px 3px 1px rgba(0, 0, 0, 0.15);\n",
              "      filter: drop-shadow(0px 1px 2px rgba(0, 0, 0, 0.3));\n",
              "      fill: #FFFFFF;\n",
              "    }\n",
              "  </style>\n",
              "\n",
              "      <script>\n",
              "        const buttonEl =\n",
              "          document.querySelector('#df-c4eb0043-d020-43bd-8913-9ce5a74db3d7 button.colab-df-convert');\n",
              "        buttonEl.style.display =\n",
              "          google.colab.kernel.accessAllowed ? 'block' : 'none';\n",
              "\n",
              "        async function convertToInteractive(key) {\n",
              "          const element = document.querySelector('#df-c4eb0043-d020-43bd-8913-9ce5a74db3d7');\n",
              "          const dataTable =\n",
              "            await google.colab.kernel.invokeFunction('convertToInteractive',\n",
              "                                                     [key], {});\n",
              "          if (!dataTable) return;\n",
              "\n",
              "          const docLinkHtml = 'Like what you see? Visit the ' +\n",
              "            '<a target=\"_blank\" href=https://colab.research.google.com/notebooks/data_table.ipynb>data table notebook</a>'\n",
              "            + ' to learn more about interactive tables.';\n",
              "          element.innerHTML = '';\n",
              "          dataTable['output_type'] = 'display_data';\n",
              "          await google.colab.output.renderOutput(dataTable, element);\n",
              "          const docLink = document.createElement('div');\n",
              "          docLink.innerHTML = docLinkHtml;\n",
              "          element.appendChild(docLink);\n",
              "        }\n",
              "      </script>\n",
              "    </div>\n",
              "  </div>\n",
              "  "
            ]
          },
          "metadata": {},
          "execution_count": 109
        }
      ]
    },
    {
      "cell_type": "code",
      "source": [
        "# Vectorize the text using TF-IDF\n",
        "vectorizer = TfidfVectorizer(ngram_range=(2, 2)) # check bigram\n",
        "X = vectorizer.fit_transform(text['text'])\n",
        "\n",
        "y = text['meta.win_side']"
      ],
      "metadata": {
        "id": "9IT9y0LnOolI"
      },
      "execution_count": 110,
      "outputs": []
    },
    {
      "cell_type": "code",
      "source": [
        "# Train test split\n",
        "X_train, X_test, y_train, y_test = train_test_split(X, y, test_size=0.2)"
      ],
      "metadata": {
        "id": "XldVLeiTPZsr"
      },
      "execution_count": 111,
      "outputs": []
    },
    {
      "cell_type": "code",
      "source": [
        "from sklearn.linear_model import LogisticRegression\n",
        "from sklearn.naive_bayes import MultinomialNB\n",
        "from sklearn.svm import LinearSVC\n",
        "from sklearn.metrics import accuracy_score, confusion_matrix, classification_report, f1_score, precision_score, recall_score\n",
        "\n",
        "logistic_regression = LogisticRegression()\n",
        "naive_bayes = MultinomialNB()\n",
        "linear_svc = LinearSVC()\n",
        "\n",
        "\n",
        "# Train and evaluate the classifiers\n",
        "classifiers = {\n",
        "    \"Logistic Regression\": logistic_regression,\n",
        "    \"Naive Bayes\": naive_bayes,\n",
        "    \"Linear SVC\": linear_svc\n",
        "}\n",
        "\n",
        "results = []\n",
        "\n",
        "for classifier_name, classifier in classifiers.items():\n",
        "\n",
        "    # Train the classifier\n",
        "    classifier.fit(X_train, y_train)\n",
        "\n",
        "    # Make predictions on the test set\n",
        "    y_pred = classifier.predict(X_test)\n",
        "\n",
        "    # Add the scores to the results dictionary\n",
        "    results.append({\n",
        "        'classifier': classifier,\n",
        "        'accuracy': accuracy_score(y_test, y_pred),\n",
        "        'f1': f1_score(y_test, y_pred),\n",
        "        'precision': precision_score(y_test, y_pred),\n",
        "        'recall': recall_score(y_test, y_pred)\n",
        "    })"
      ],
      "metadata": {
        "id": "4h8xtfa5PfFp"
      },
      "execution_count": 112,
      "outputs": []
    },
    {
      "cell_type": "code",
      "source": [
        "# Create a DataFrame from the results list\n",
        "results_df = pd.DataFrame(results)\n",
        "results_df"
      ],
      "metadata": {
        "colab": {
          "base_uri": "https://localhost:8080/",
          "height": 143
        },
        "id": "SFW6SjidPtFY",
        "outputId": "1da7482a-c29e-4a69-9b93-cb26c3c0e247"
      },
      "execution_count": 113,
      "outputs": [
        {
          "output_type": "execute_result",
          "data": {
            "text/plain": [
              "             classifier  accuracy        f1  precision    recall\n",
              "0  LogisticRegression()  0.651163  0.788732   0.651163  1.000000\n",
              "1       MultinomialNB()  0.651163  0.788732   0.651163  1.000000\n",
              "2           LinearSVC()  0.635659  0.775120   0.648000  0.964286"
            ],
            "text/html": [
              "\n",
              "  <div id=\"df-ac4b75bd-928a-4717-9a13-aa90ac2a1956\">\n",
              "    <div class=\"colab-df-container\">\n",
              "      <div>\n",
              "<style scoped>\n",
              "    .dataframe tbody tr th:only-of-type {\n",
              "        vertical-align: middle;\n",
              "    }\n",
              "\n",
              "    .dataframe tbody tr th {\n",
              "        vertical-align: top;\n",
              "    }\n",
              "\n",
              "    .dataframe thead th {\n",
              "        text-align: right;\n",
              "    }\n",
              "</style>\n",
              "<table border=\"1\" class=\"dataframe\">\n",
              "  <thead>\n",
              "    <tr style=\"text-align: right;\">\n",
              "      <th></th>\n",
              "      <th>classifier</th>\n",
              "      <th>accuracy</th>\n",
              "      <th>f1</th>\n",
              "      <th>precision</th>\n",
              "      <th>recall</th>\n",
              "    </tr>\n",
              "  </thead>\n",
              "  <tbody>\n",
              "    <tr>\n",
              "      <th>0</th>\n",
              "      <td>LogisticRegression()</td>\n",
              "      <td>0.651163</td>\n",
              "      <td>0.788732</td>\n",
              "      <td>0.651163</td>\n",
              "      <td>1.000000</td>\n",
              "    </tr>\n",
              "    <tr>\n",
              "      <th>1</th>\n",
              "      <td>MultinomialNB()</td>\n",
              "      <td>0.651163</td>\n",
              "      <td>0.788732</td>\n",
              "      <td>0.651163</td>\n",
              "      <td>1.000000</td>\n",
              "    </tr>\n",
              "    <tr>\n",
              "      <th>2</th>\n",
              "      <td>LinearSVC()</td>\n",
              "      <td>0.635659</td>\n",
              "      <td>0.775120</td>\n",
              "      <td>0.648000</td>\n",
              "      <td>0.964286</td>\n",
              "    </tr>\n",
              "  </tbody>\n",
              "</table>\n",
              "</div>\n",
              "      <button class=\"colab-df-convert\" onclick=\"convertToInteractive('df-ac4b75bd-928a-4717-9a13-aa90ac2a1956')\"\n",
              "              title=\"Convert this dataframe to an interactive table.\"\n",
              "              style=\"display:none;\">\n",
              "        \n",
              "  <svg xmlns=\"http://www.w3.org/2000/svg\" height=\"24px\"viewBox=\"0 0 24 24\"\n",
              "       width=\"24px\">\n",
              "    <path d=\"M0 0h24v24H0V0z\" fill=\"none\"/>\n",
              "    <path d=\"M18.56 5.44l.94 2.06.94-2.06 2.06-.94-2.06-.94-.94-2.06-.94 2.06-2.06.94zm-11 1L8.5 8.5l.94-2.06 2.06-.94-2.06-.94L8.5 2.5l-.94 2.06-2.06.94zm10 10l.94 2.06.94-2.06 2.06-.94-2.06-.94-.94-2.06-.94 2.06-2.06.94z\"/><path d=\"M17.41 7.96l-1.37-1.37c-.4-.4-.92-.59-1.43-.59-.52 0-1.04.2-1.43.59L10.3 9.45l-7.72 7.72c-.78.78-.78 2.05 0 2.83L4 21.41c.39.39.9.59 1.41.59.51 0 1.02-.2 1.41-.59l7.78-7.78 2.81-2.81c.8-.78.8-2.07 0-2.86zM5.41 20L4 18.59l7.72-7.72 1.47 1.35L5.41 20z\"/>\n",
              "  </svg>\n",
              "      </button>\n",
              "      \n",
              "  <style>\n",
              "    .colab-df-container {\n",
              "      display:flex;\n",
              "      flex-wrap:wrap;\n",
              "      gap: 12px;\n",
              "    }\n",
              "\n",
              "    .colab-df-convert {\n",
              "      background-color: #E8F0FE;\n",
              "      border: none;\n",
              "      border-radius: 50%;\n",
              "      cursor: pointer;\n",
              "      display: none;\n",
              "      fill: #1967D2;\n",
              "      height: 32px;\n",
              "      padding: 0 0 0 0;\n",
              "      width: 32px;\n",
              "    }\n",
              "\n",
              "    .colab-df-convert:hover {\n",
              "      background-color: #E2EBFA;\n",
              "      box-shadow: 0px 1px 2px rgba(60, 64, 67, 0.3), 0px 1px 3px 1px rgba(60, 64, 67, 0.15);\n",
              "      fill: #174EA6;\n",
              "    }\n",
              "\n",
              "    [theme=dark] .colab-df-convert {\n",
              "      background-color: #3B4455;\n",
              "      fill: #D2E3FC;\n",
              "    }\n",
              "\n",
              "    [theme=dark] .colab-df-convert:hover {\n",
              "      background-color: #434B5C;\n",
              "      box-shadow: 0px 1px 3px 1px rgba(0, 0, 0, 0.15);\n",
              "      filter: drop-shadow(0px 1px 2px rgba(0, 0, 0, 0.3));\n",
              "      fill: #FFFFFF;\n",
              "    }\n",
              "  </style>\n",
              "\n",
              "      <script>\n",
              "        const buttonEl =\n",
              "          document.querySelector('#df-ac4b75bd-928a-4717-9a13-aa90ac2a1956 button.colab-df-convert');\n",
              "        buttonEl.style.display =\n",
              "          google.colab.kernel.accessAllowed ? 'block' : 'none';\n",
              "\n",
              "        async function convertToInteractive(key) {\n",
              "          const element = document.querySelector('#df-ac4b75bd-928a-4717-9a13-aa90ac2a1956');\n",
              "          const dataTable =\n",
              "            await google.colab.kernel.invokeFunction('convertToInteractive',\n",
              "                                                     [key], {});\n",
              "          if (!dataTable) return;\n",
              "\n",
              "          const docLinkHtml = 'Like what you see? Visit the ' +\n",
              "            '<a target=\"_blank\" href=https://colab.research.google.com/notebooks/data_table.ipynb>data table notebook</a>'\n",
              "            + ' to learn more about interactive tables.';\n",
              "          element.innerHTML = '';\n",
              "          dataTable['output_type'] = 'display_data';\n",
              "          await google.colab.output.renderOutput(dataTable, element);\n",
              "          const docLink = document.createElement('div');\n",
              "          docLink.innerHTML = docLinkHtml;\n",
              "          element.appendChild(docLink);\n",
              "        }\n",
              "      </script>\n",
              "    </div>\n",
              "  </div>\n",
              "  "
            ]
          },
          "metadata": {},
          "execution_count": 113
        }
      ]
    },
    {
      "cell_type": "code",
      "source": [],
      "metadata": {
        "id": "qEy9wgt3RxjF"
      },
      "execution_count": 113,
      "outputs": []
    },
    {
      "cell_type": "markdown",
      "source": [
        "##Questions about gender?\n",
        "- What was the gender breakdown of the advocates?\n",
        "- What was the most common first name of the speakers?\n",
        "- Does the gender of the advocates influence whether they win or not?\n",
        "\n",
        "So I downloaded a dataset from the Uni of Cali, Irvine that predicts the gender of the speaker based off their first name. Link: https://archive.ics.uci.edu/ml/datasets/Gender+by+Name"
      ],
      "metadata": {
        "id": "Bm8U3Zzo91C-"
      }
    },
    {
      "cell_type": "code",
      "source": [
        "df_gender = pd.read_csv(r'https://raw.githubusercontent.com/rezarzky/supreme-prediction/main/dataset/name_gender_dataset.csv')\n",
        "idx = df_gender.groupby(['Name'])['Probability'].idxmax()\n",
        "df_gender = df_gender.loc[idx]"
      ],
      "metadata": {
        "id": "yNJshqFU-NRo"
      },
      "execution_count": 114,
      "outputs": []
    },
    {
      "cell_type": "code",
      "source": [
        "speaker_gender_df = df_speakers.copy()\n",
        "speaker_gender_df.loc[:, ['first_name']] = speaker_gender_df.loc[:, 'meta.name'].str.split(' ').str[0]\n",
        "speaker_gender_df = pd.merge(speaker_gender_df, df_gender, how='inner', left_on = 'first_name', right_on = 'Name')\n",
        "speaker_gender_df[\"Gender\"].value_counts()"
      ],
      "metadata": {
        "id": "UcUkBnKz-SwV",
        "colab": {
          "base_uri": "https://localhost:8080/"
        },
        "outputId": "7272a15e-aaa6-479e-8e6e-954f50af08c5"
      },
      "execution_count": 115,
      "outputs": [
        {
          "output_type": "execute_result",
          "data": {
            "text/plain": [
              "M    1921\n",
              "F     452\n",
              "Name: Gender, dtype: int64"
            ]
          },
          "metadata": {},
          "execution_count": 115
        }
      ]
    },
    {
      "cell_type": "code",
      "source": [
        "speaker_gender_df[\"Gender\"].value_counts(normalize=True)"
      ],
      "metadata": {
        "id": "UGBNBK8a-2fR",
        "colab": {
          "base_uri": "https://localhost:8080/"
        },
        "outputId": "56ee879d-aa91-483b-f678-daa1628744b8"
      },
      "execution_count": 116,
      "outputs": [
        {
          "output_type": "execute_result",
          "data": {
            "text/plain": [
              "M    0.809524\n",
              "F    0.190476\n",
              "Name: Gender, dtype: float64"
            ]
          },
          "metadata": {},
          "execution_count": 116
        }
      ]
    },
    {
      "cell_type": "code",
      "source": [
        "speaker_gender_df.groupby(['meta.type'])['Gender'].value_counts()"
      ],
      "metadata": {
        "id": "laJpOKzs-42b",
        "colab": {
          "base_uri": "https://localhost:8080/"
        },
        "outputId": "281d203a-4526-4cc8-9022-f56b0d2db6c5"
      },
      "execution_count": 117,
      "outputs": [
        {
          "output_type": "execute_result",
          "data": {
            "text/plain": [
              "meta.type  Gender\n",
              "A          M         1808\n",
              "           F          407\n",
              "J          M          113\n",
              "           F           45\n",
              "Name: Gender, dtype: int64"
            ]
          },
          "metadata": {},
          "execution_count": 117
        }
      ]
    },
    {
      "cell_type": "code",
      "source": [
        "speaker_gender_df[\"first_name\"].value_counts(normalize=True).loc[lambda x : x>.02]"
      ],
      "metadata": {
        "id": "I3cm7aVf-6m_",
        "colab": {
          "base_uri": "https://localhost:8080/"
        },
        "outputId": "ad6cc6ca-5ebc-4c9f-e7f1-fb9879c69273"
      },
      "execution_count": 118,
      "outputs": [
        {
          "output_type": "execute_result",
          "data": {
            "text/plain": [
              "David      0.039612\n",
              "John       0.038769\n",
              "Michael    0.031606\n",
              "Paul       0.028234\n",
              "Thomas     0.026970\n",
              "Jeffrey    0.023599\n",
              "Stephen    0.023177\n",
              "Robert     0.022335\n",
              "James      0.021492\n",
              "Name: first_name, dtype: float64"
            ]
          },
          "metadata": {},
          "execution_count": 118
        }
      ]
    },
    {
      "cell_type": "code",
      "source": [
        "df_convos_gender = df_convos.copy()\n",
        "test_tup = [tuple(r) for r in df_convos_gender.loc[:, ['meta.case_id', \\\n",
        "                                'meta.advocates', 'meta.win_side']].to_numpy()]\n",
        "lst_case_person = []\n",
        "\n",
        "for case_id, person_deets, win_side in test_tup:\n",
        "    person_deets = eval(person_deets)\n",
        "    for person, details in person_deets.items():\n",
        "        lst_case_person.append((case_id, person, win_side))\n",
        "   \n",
        "\n",
        "person_case_df = pd.DataFrame(lst_case_person, columns=['meta.case_id', 'id', 'win_side'])"
      ],
      "metadata": {
        "id": "lXR0Q1OJ-8Sb"
      },
      "execution_count": 119,
      "outputs": []
    },
    {
      "cell_type": "code",
      "source": [
        "#cleaning\n",
        "#going to remove 27 rows w/empty value in id column\n",
        "person_case_df = person_case_df.loc[(person_case_df.loc[:,'id'] != ''), :]"
      ],
      "metadata": {
        "id": "BoGs3_pv_E2V"
      },
      "execution_count": 120,
      "outputs": []
    },
    {
      "cell_type": "code",
      "source": [
        "small_speakergenderdf = speaker_gender_df.loc[:, ['id', 'meta.name',\\\n",
        "                                              'meta.type', 'Gender']]\n",
        "\n",
        "\n",
        "person_case_gender_df = pd.merge(person_case_df, small_speakergenderdf, how='inner', left_on = 'id', right_on = 'id')\n",
        "person_case_gender_df = person_case_gender_df.drop_duplicates()\n",
        "person_case_gender_df.head(5)"
      ],
      "metadata": {
        "id": "TAW73oV7_6hQ",
        "colab": {
          "base_uri": "https://localhost:8080/",
          "height": 206
        },
        "outputId": "64ae497c-3f77-498b-9e52-87263a176262"
      },
      "execution_count": 121,
      "outputs": [
        {
          "output_type": "execute_result",
          "data": {
            "text/plain": [
              "    meta.case_id             id  win_side      meta.name meta.type Gender\n",
              "0    2001_01-584  john_crabtree       0.0  John Crabtree         A      M\n",
              "1    2001_01-584   glen_d_nager       0.0  Glen D. Nager         A      M\n",
              "7   2001_00-1045   glen_d_nager       1.0  Glen D. Nager         A      M\n",
              "13  2002_01-1269   glen_d_nager       1.0  Glen D. Nager         A      M\n",
              "19  2004_03-1160   glen_d_nager       0.0  Glen D. Nager         A      M"
            ],
            "text/html": [
              "\n",
              "  <div id=\"df-f265a3a7-315f-43fc-b3f9-dc70acc0a840\">\n",
              "    <div class=\"colab-df-container\">\n",
              "      <div>\n",
              "<style scoped>\n",
              "    .dataframe tbody tr th:only-of-type {\n",
              "        vertical-align: middle;\n",
              "    }\n",
              "\n",
              "    .dataframe tbody tr th {\n",
              "        vertical-align: top;\n",
              "    }\n",
              "\n",
              "    .dataframe thead th {\n",
              "        text-align: right;\n",
              "    }\n",
              "</style>\n",
              "<table border=\"1\" class=\"dataframe\">\n",
              "  <thead>\n",
              "    <tr style=\"text-align: right;\">\n",
              "      <th></th>\n",
              "      <th>meta.case_id</th>\n",
              "      <th>id</th>\n",
              "      <th>win_side</th>\n",
              "      <th>meta.name</th>\n",
              "      <th>meta.type</th>\n",
              "      <th>Gender</th>\n",
              "    </tr>\n",
              "  </thead>\n",
              "  <tbody>\n",
              "    <tr>\n",
              "      <th>0</th>\n",
              "      <td>2001_01-584</td>\n",
              "      <td>john_crabtree</td>\n",
              "      <td>0.0</td>\n",
              "      <td>John Crabtree</td>\n",
              "      <td>A</td>\n",
              "      <td>M</td>\n",
              "    </tr>\n",
              "    <tr>\n",
              "      <th>1</th>\n",
              "      <td>2001_01-584</td>\n",
              "      <td>glen_d_nager</td>\n",
              "      <td>0.0</td>\n",
              "      <td>Glen D. Nager</td>\n",
              "      <td>A</td>\n",
              "      <td>M</td>\n",
              "    </tr>\n",
              "    <tr>\n",
              "      <th>7</th>\n",
              "      <td>2001_00-1045</td>\n",
              "      <td>glen_d_nager</td>\n",
              "      <td>1.0</td>\n",
              "      <td>Glen D. Nager</td>\n",
              "      <td>A</td>\n",
              "      <td>M</td>\n",
              "    </tr>\n",
              "    <tr>\n",
              "      <th>13</th>\n",
              "      <td>2002_01-1269</td>\n",
              "      <td>glen_d_nager</td>\n",
              "      <td>1.0</td>\n",
              "      <td>Glen D. Nager</td>\n",
              "      <td>A</td>\n",
              "      <td>M</td>\n",
              "    </tr>\n",
              "    <tr>\n",
              "      <th>19</th>\n",
              "      <td>2004_03-1160</td>\n",
              "      <td>glen_d_nager</td>\n",
              "      <td>0.0</td>\n",
              "      <td>Glen D. Nager</td>\n",
              "      <td>A</td>\n",
              "      <td>M</td>\n",
              "    </tr>\n",
              "  </tbody>\n",
              "</table>\n",
              "</div>\n",
              "      <button class=\"colab-df-convert\" onclick=\"convertToInteractive('df-f265a3a7-315f-43fc-b3f9-dc70acc0a840')\"\n",
              "              title=\"Convert this dataframe to an interactive table.\"\n",
              "              style=\"display:none;\">\n",
              "        \n",
              "  <svg xmlns=\"http://www.w3.org/2000/svg\" height=\"24px\"viewBox=\"0 0 24 24\"\n",
              "       width=\"24px\">\n",
              "    <path d=\"M0 0h24v24H0V0z\" fill=\"none\"/>\n",
              "    <path d=\"M18.56 5.44l.94 2.06.94-2.06 2.06-.94-2.06-.94-.94-2.06-.94 2.06-2.06.94zm-11 1L8.5 8.5l.94-2.06 2.06-.94-2.06-.94L8.5 2.5l-.94 2.06-2.06.94zm10 10l.94 2.06.94-2.06 2.06-.94-2.06-.94-.94-2.06-.94 2.06-2.06.94z\"/><path d=\"M17.41 7.96l-1.37-1.37c-.4-.4-.92-.59-1.43-.59-.52 0-1.04.2-1.43.59L10.3 9.45l-7.72 7.72c-.78.78-.78 2.05 0 2.83L4 21.41c.39.39.9.59 1.41.59.51 0 1.02-.2 1.41-.59l7.78-7.78 2.81-2.81c.8-.78.8-2.07 0-2.86zM5.41 20L4 18.59l7.72-7.72 1.47 1.35L5.41 20z\"/>\n",
              "  </svg>\n",
              "      </button>\n",
              "      \n",
              "  <style>\n",
              "    .colab-df-container {\n",
              "      display:flex;\n",
              "      flex-wrap:wrap;\n",
              "      gap: 12px;\n",
              "    }\n",
              "\n",
              "    .colab-df-convert {\n",
              "      background-color: #E8F0FE;\n",
              "      border: none;\n",
              "      border-radius: 50%;\n",
              "      cursor: pointer;\n",
              "      display: none;\n",
              "      fill: #1967D2;\n",
              "      height: 32px;\n",
              "      padding: 0 0 0 0;\n",
              "      width: 32px;\n",
              "    }\n",
              "\n",
              "    .colab-df-convert:hover {\n",
              "      background-color: #E2EBFA;\n",
              "      box-shadow: 0px 1px 2px rgba(60, 64, 67, 0.3), 0px 1px 3px 1px rgba(60, 64, 67, 0.15);\n",
              "      fill: #174EA6;\n",
              "    }\n",
              "\n",
              "    [theme=dark] .colab-df-convert {\n",
              "      background-color: #3B4455;\n",
              "      fill: #D2E3FC;\n",
              "    }\n",
              "\n",
              "    [theme=dark] .colab-df-convert:hover {\n",
              "      background-color: #434B5C;\n",
              "      box-shadow: 0px 1px 3px 1px rgba(0, 0, 0, 0.15);\n",
              "      filter: drop-shadow(0px 1px 2px rgba(0, 0, 0, 0.3));\n",
              "      fill: #FFFFFF;\n",
              "    }\n",
              "  </style>\n",
              "\n",
              "      <script>\n",
              "        const buttonEl =\n",
              "          document.querySelector('#df-f265a3a7-315f-43fc-b3f9-dc70acc0a840 button.colab-df-convert');\n",
              "        buttonEl.style.display =\n",
              "          google.colab.kernel.accessAllowed ? 'block' : 'none';\n",
              "\n",
              "        async function convertToInteractive(key) {\n",
              "          const element = document.querySelector('#df-f265a3a7-315f-43fc-b3f9-dc70acc0a840');\n",
              "          const dataTable =\n",
              "            await google.colab.kernel.invokeFunction('convertToInteractive',\n",
              "                                                     [key], {});\n",
              "          if (!dataTable) return;\n",
              "\n",
              "          const docLinkHtml = 'Like what you see? Visit the ' +\n",
              "            '<a target=\"_blank\" href=https://colab.research.google.com/notebooks/data_table.ipynb>data table notebook</a>'\n",
              "            + ' to learn more about interactive tables.';\n",
              "          element.innerHTML = '';\n",
              "          dataTable['output_type'] = 'display_data';\n",
              "          await google.colab.output.renderOutput(dataTable, element);\n",
              "          const docLink = document.createElement('div');\n",
              "          docLink.innerHTML = docLinkHtml;\n",
              "          element.appendChild(docLink);\n",
              "        }\n",
              "      </script>\n",
              "    </div>\n",
              "  </div>\n",
              "  "
            ]
          },
          "metadata": {},
          "execution_count": 121
        }
      ]
    },
    {
      "cell_type": "code",
      "source": [
        "result = sm.ols(formula = \"win_side ~ Gender\", data = person_case_gender_df).fit()\n",
        "print(result.summary())"
      ],
      "metadata": {
        "id": "Pwz5RzcO_-Ff",
        "colab": {
          "base_uri": "https://localhost:8080/"
        },
        "outputId": "b051c1d4-d5b1-4e9f-856f-9c2cb4d3c6ba"
      },
      "execution_count": 122,
      "outputs": [
        {
          "output_type": "stream",
          "name": "stdout",
          "text": [
            "                            OLS Regression Results                            \n",
            "==============================================================================\n",
            "Dep. Variable:               win_side   R-squared:                       0.000\n",
            "Model:                            OLS   Adj. R-squared:                 -0.000\n",
            "Method:                 Least Squares   F-statistic:                    0.9162\n",
            "Date:                Sat, 22 Apr 2023   Prob (F-statistic):              0.339\n",
            "Time:                        03:33:01   Log-Likelihood:                -2192.5\n",
            "No. Observations:                3256   AIC:                             4389.\n",
            "Df Residuals:                    3254   BIC:                             4401.\n",
            "Df Model:                           1                                         \n",
            "Covariance Type:            nonrobust                                         \n",
            "===============================================================================\n",
            "                  coef    std err          t      P>|t|      [0.025      0.975]\n",
            "-------------------------------------------------------------------------------\n",
            "Intercept       0.6749      0.020     33.832      0.000       0.636       0.714\n",
            "Gender[T.M]    -0.0210      0.022     -0.957      0.339      -0.064       0.022\n",
            "==============================================================================\n",
            "Omnibus:                    18142.750   Durbin-Watson:                   1.771\n",
            "Prob(Omnibus):                  0.000   Jarque-Bera (JB):              568.476\n",
            "Skew:                          -0.664   Prob(JB):                    3.61e-124\n",
            "Kurtosis:                       1.442   Cond. No.                         4.60\n",
            "==============================================================================\n",
            "\n",
            "Notes:\n",
            "[1] Standard Errors assume that the covariance matrix of the errors is correctly specified.\n"
          ]
        }
      ]
    },
    {
      "cell_type": "markdown",
      "source": [
        "Gender is not expected to affect the outcome of case (1,0 ~ winning or not winning side).\n"
      ],
      "metadata": {
        "id": "Im_-uppRALDD"
      }
    },
    {
      "cell_type": "markdown",
      "source": [
        "## Who are our Justices?\n",
        "\n",
        "- Who are our justices? <br>\n",
        "- What percentage of the justices were installed during Republican v Democratic administrations?<br>\n",
        "- How do justices' votes correlate with each other's and with the average votes of their fellow political party's appointees?<br>\n",
        "-What are our bigrams for the first year of each administration versus the last year?"
      ],
      "metadata": {
        "id": "JUr7AeVpT0Np"
      }
    },
    {
      "cell_type": "code",
      "source": [
        "df_speakers.loc[(df_speakers.loc[:, 'meta.role'] == 'justice') & (df_speakers['year'].isin(range(2001,2019))), ['meta.name']].drop_duplicates('meta.name')"
      ],
      "metadata": {
        "colab": {
          "base_uri": "https://localhost:8080/",
          "height": 582
        },
        "id": "w_qQjzYITySA",
        "outputId": "a79692d4-5d4e-4f97-c1b0-c936fba2ea08"
      },
      "execution_count": 123,
      "outputs": [
        {
          "output_type": "execute_result",
          "data": {
            "text/plain": [
              "                 meta.name\n",
              "0     William H. Rehnquist\n",
              "2           Antonin Scalia\n",
              "3       Anthony M. Kennedy\n",
              "4        John Paul Stevens\n",
              "5      Ruth Bader Ginsburg\n",
              "6        Stephen G. Breyer\n",
              "7      Sandra Day O'Connor\n",
              "8          David H. Souter\n",
              "55         Clarence Thomas\n",
              "71    John G. Roberts, Jr.\n",
              "373      John M. Harlan II\n",
              "465      Harry A. Blackmun\n",
              "633   Samuel A. Alito, Jr.\n",
              "1094       Sonia Sotomayor\n",
              "1096           Elena Kagan\n",
              "2102          Neil Gorsuch\n",
              "2321    Brett M. Kavanaugh"
            ],
            "text/html": [
              "\n",
              "  <div id=\"df-0d5ad750-873d-4861-85e7-842696a40172\">\n",
              "    <div class=\"colab-df-container\">\n",
              "      <div>\n",
              "<style scoped>\n",
              "    .dataframe tbody tr th:only-of-type {\n",
              "        vertical-align: middle;\n",
              "    }\n",
              "\n",
              "    .dataframe tbody tr th {\n",
              "        vertical-align: top;\n",
              "    }\n",
              "\n",
              "    .dataframe thead th {\n",
              "        text-align: right;\n",
              "    }\n",
              "</style>\n",
              "<table border=\"1\" class=\"dataframe\">\n",
              "  <thead>\n",
              "    <tr style=\"text-align: right;\">\n",
              "      <th></th>\n",
              "      <th>meta.name</th>\n",
              "    </tr>\n",
              "  </thead>\n",
              "  <tbody>\n",
              "    <tr>\n",
              "      <th>0</th>\n",
              "      <td>William H. Rehnquist</td>\n",
              "    </tr>\n",
              "    <tr>\n",
              "      <th>2</th>\n",
              "      <td>Antonin Scalia</td>\n",
              "    </tr>\n",
              "    <tr>\n",
              "      <th>3</th>\n",
              "      <td>Anthony M. Kennedy</td>\n",
              "    </tr>\n",
              "    <tr>\n",
              "      <th>4</th>\n",
              "      <td>John Paul Stevens</td>\n",
              "    </tr>\n",
              "    <tr>\n",
              "      <th>5</th>\n",
              "      <td>Ruth Bader Ginsburg</td>\n",
              "    </tr>\n",
              "    <tr>\n",
              "      <th>6</th>\n",
              "      <td>Stephen G. Breyer</td>\n",
              "    </tr>\n",
              "    <tr>\n",
              "      <th>7</th>\n",
              "      <td>Sandra Day O'Connor</td>\n",
              "    </tr>\n",
              "    <tr>\n",
              "      <th>8</th>\n",
              "      <td>David H. Souter</td>\n",
              "    </tr>\n",
              "    <tr>\n",
              "      <th>55</th>\n",
              "      <td>Clarence Thomas</td>\n",
              "    </tr>\n",
              "    <tr>\n",
              "      <th>71</th>\n",
              "      <td>John G. Roberts, Jr.</td>\n",
              "    </tr>\n",
              "    <tr>\n",
              "      <th>373</th>\n",
              "      <td>John M. Harlan II</td>\n",
              "    </tr>\n",
              "    <tr>\n",
              "      <th>465</th>\n",
              "      <td>Harry A. Blackmun</td>\n",
              "    </tr>\n",
              "    <tr>\n",
              "      <th>633</th>\n",
              "      <td>Samuel A. Alito, Jr.</td>\n",
              "    </tr>\n",
              "    <tr>\n",
              "      <th>1094</th>\n",
              "      <td>Sonia Sotomayor</td>\n",
              "    </tr>\n",
              "    <tr>\n",
              "      <th>1096</th>\n",
              "      <td>Elena Kagan</td>\n",
              "    </tr>\n",
              "    <tr>\n",
              "      <th>2102</th>\n",
              "      <td>Neil Gorsuch</td>\n",
              "    </tr>\n",
              "    <tr>\n",
              "      <th>2321</th>\n",
              "      <td>Brett M. Kavanaugh</td>\n",
              "    </tr>\n",
              "  </tbody>\n",
              "</table>\n",
              "</div>\n",
              "      <button class=\"colab-df-convert\" onclick=\"convertToInteractive('df-0d5ad750-873d-4861-85e7-842696a40172')\"\n",
              "              title=\"Convert this dataframe to an interactive table.\"\n",
              "              style=\"display:none;\">\n",
              "        \n",
              "  <svg xmlns=\"http://www.w3.org/2000/svg\" height=\"24px\"viewBox=\"0 0 24 24\"\n",
              "       width=\"24px\">\n",
              "    <path d=\"M0 0h24v24H0V0z\" fill=\"none\"/>\n",
              "    <path d=\"M18.56 5.44l.94 2.06.94-2.06 2.06-.94-2.06-.94-.94-2.06-.94 2.06-2.06.94zm-11 1L8.5 8.5l.94-2.06 2.06-.94-2.06-.94L8.5 2.5l-.94 2.06-2.06.94zm10 10l.94 2.06.94-2.06 2.06-.94-2.06-.94-.94-2.06-.94 2.06-2.06.94z\"/><path d=\"M17.41 7.96l-1.37-1.37c-.4-.4-.92-.59-1.43-.59-.52 0-1.04.2-1.43.59L10.3 9.45l-7.72 7.72c-.78.78-.78 2.05 0 2.83L4 21.41c.39.39.9.59 1.41.59.51 0 1.02-.2 1.41-.59l7.78-7.78 2.81-2.81c.8-.78.8-2.07 0-2.86zM5.41 20L4 18.59l7.72-7.72 1.47 1.35L5.41 20z\"/>\n",
              "  </svg>\n",
              "      </button>\n",
              "      \n",
              "  <style>\n",
              "    .colab-df-container {\n",
              "      display:flex;\n",
              "      flex-wrap:wrap;\n",
              "      gap: 12px;\n",
              "    }\n",
              "\n",
              "    .colab-df-convert {\n",
              "      background-color: #E8F0FE;\n",
              "      border: none;\n",
              "      border-radius: 50%;\n",
              "      cursor: pointer;\n",
              "      display: none;\n",
              "      fill: #1967D2;\n",
              "      height: 32px;\n",
              "      padding: 0 0 0 0;\n",
              "      width: 32px;\n",
              "    }\n",
              "\n",
              "    .colab-df-convert:hover {\n",
              "      background-color: #E2EBFA;\n",
              "      box-shadow: 0px 1px 2px rgba(60, 64, 67, 0.3), 0px 1px 3px 1px rgba(60, 64, 67, 0.15);\n",
              "      fill: #174EA6;\n",
              "    }\n",
              "\n",
              "    [theme=dark] .colab-df-convert {\n",
              "      background-color: #3B4455;\n",
              "      fill: #D2E3FC;\n",
              "    }\n",
              "\n",
              "    [theme=dark] .colab-df-convert:hover {\n",
              "      background-color: #434B5C;\n",
              "      box-shadow: 0px 1px 3px 1px rgba(0, 0, 0, 0.15);\n",
              "      filter: drop-shadow(0px 1px 2px rgba(0, 0, 0, 0.3));\n",
              "      fill: #FFFFFF;\n",
              "    }\n",
              "  </style>\n",
              "\n",
              "      <script>\n",
              "        const buttonEl =\n",
              "          document.querySelector('#df-0d5ad750-873d-4861-85e7-842696a40172 button.colab-df-convert');\n",
              "        buttonEl.style.display =\n",
              "          google.colab.kernel.accessAllowed ? 'block' : 'none';\n",
              "\n",
              "        async function convertToInteractive(key) {\n",
              "          const element = document.querySelector('#df-0d5ad750-873d-4861-85e7-842696a40172');\n",
              "          const dataTable =\n",
              "            await google.colab.kernel.invokeFunction('convertToInteractive',\n",
              "                                                     [key], {});\n",
              "          if (!dataTable) return;\n",
              "\n",
              "          const docLinkHtml = 'Like what you see? Visit the ' +\n",
              "            '<a target=\"_blank\" href=https://colab.research.google.com/notebooks/data_table.ipynb>data table notebook</a>'\n",
              "            + ' to learn more about interactive tables.';\n",
              "          element.innerHTML = '';\n",
              "          dataTable['output_type'] = 'display_data';\n",
              "          await google.colab.output.renderOutput(dataTable, element);\n",
              "          const docLink = document.createElement('div');\n",
              "          docLink.innerHTML = docLinkHtml;\n",
              "          element.appendChild(docLink);\n",
              "        }\n",
              "      </script>\n",
              "    </div>\n",
              "  </div>\n",
              "  "
            ]
          },
          "metadata": {},
          "execution_count": 123
        }
      ]
    },
    {
      "cell_type": "code",
      "source": [
        "df_polj = pd.read_csv(r'https://raw.githubusercontent.com/rezarzky/supreme-prediction/main/dataset/Justices_Political.csv')"
      ],
      "metadata": {
        "id": "dwcWPEVCZV4T"
      },
      "execution_count": 124,
      "outputs": []
    },
    {
      "cell_type": "code",
      "source": [
        "composition = df_polj['Administration Appointed'].value_counts(normalize=True) * 100\n",
        "print(f\"Percentage of Justices based on Administrations they were appointed under {composition}\")"
      ],
      "metadata": {
        "id": "l5ypR1QDavch",
        "colab": {
          "base_uri": "https://localhost:8080/"
        },
        "outputId": "528dc12a-8f3a-4267-e339-2e6f62d9f6de"
      },
      "execution_count": 125,
      "outputs": [
        {
          "output_type": "stream",
          "name": "stdout",
          "text": [
            "Percentage of Justices based on Administrations they were appointed under R    76.470588\n",
            "D    23.529412\n",
            "Name: Administration Appointed, dtype: float64\n"
          ]
        }
      ]
    },
    {
      "cell_type": "markdown",
      "source": [
        "Which justices served on the most cases in our dataset (i.e how many times did they vote?)"
      ],
      "metadata": {
        "id": "VXh3zBlt3MJn"
      }
    },
    {
      "cell_type": "code",
      "source": [
        "import ast\n",
        "\n",
        "df_convos['meta.votes_side'] = df_convos['meta.votes_side'].apply(lambda x: ast.literal_eval(x) if isinstance(x, str) else x)\n",
        "df_convos['justice_names'] = df_convos['meta.votes_side'].apply(lambda x: list(x.keys()) if isinstance(x, dict) else [])\n",
        "df_exploded = df_convos.explode('justice_names')\n",
        "name_counts = df_exploded['justice_names'].value_counts()"
      ],
      "metadata": {
        "id": "ygALPW0mkLlA"
      },
      "execution_count": 126,
      "outputs": []
    },
    {
      "cell_type": "code",
      "source": [
        "print(f\"How many times each Justice appears in our subset {name_counts}\")"
      ],
      "metadata": {
        "id": "v6Bli-V4gsWt",
        "colab": {
          "base_uri": "https://localhost:8080/"
        },
        "outputId": "c5021de5-c950-433f-ee38-d50103dea1f3"
      },
      "execution_count": 127,
      "outputs": [
        {
          "output_type": "stream",
          "name": "stdout",
          "text": [
            "How many times each Justice appears in our subset j__ruth_bader_ginsburg    1288\n",
            "j__clarence_thomas        1285\n",
            "j__stephen_g_breyer       1275\n",
            "j__anthony_m_kennedy      1216\n",
            "j__antonin_scalia         1035\n",
            "j__john_g_roberts_jr       975\n",
            "j__samuel_a_alito_jr       941\n",
            "j__sonia_sotomayor         678\n",
            "j__john_paul_stevens       674\n",
            "j__david_h_souter          596\n",
            "j__elena_kagan             571\n",
            "j__sandra_day_oconnor      316\n",
            "j__william_h_rehnquist     291\n",
            "j__neil_gorsuch            144\n",
            "j__brett_m_kavanaugh        62\n",
            "Name: justice_names, dtype: int64\n"
          ]
        }
      ]
    },
    {
      "cell_type": "markdown",
      "source": [
        "<h3> Understanding Correlations </h3>\n",
        "We are trying to understand correlations between how justices appointed during Republican administrations and those appointed during Democratic administrations vote. Additionally, we are analyzing correlations in voting patterns between each individual justice versus others. "
      ],
      "metadata": {
        "id": "s3Dk8-g0qcxA"
      }
    },
    {
      "cell_type": "code",
      "source": [
        "import ast\n",
        "\n",
        "rep_judge = ['j__clarence_thomas', 'j__anthony_m_kennedy', 'j__antonin_scalia', 'j__john_g_roberts_jr', 'j__samuel_a_alito_jr',\\\n",
        "             'j__john_paul_stevens', 'j__david_h_souter', 'j__william_h_rehnquist', 'j__neil_gorsuch', 'j__brett_m_kavanaugh']\n",
        "dem_judge = ['j__ruth_bader_ginsburg', 'j__stephen_g_breyer','j__sonia_sotomayor','j__elena_kagan']\n",
        "\n",
        "df_convos['meta.votes_side'] = df_convos['meta.votes_side'].apply(lambda x: ast.literal_eval(x) if isinstance(x, str) else x)\n",
        "df_convos['party'] = df_convos['meta.votes_side'].apply(lambda x: 'Republican' if isinstance(x, dict) and any(name in x for name in rep_judge) else ('Democratic' if isinstance(x, dict) and any(name in x for name in dem_judge) else None))\n",
        "for name in rep_judge + dem_judge:\n",
        "    df_convos[name] = df_convos['meta.votes_side'].apply(lambda x: x.get(name) if isinstance(x, dict) else None)\n",
        "\n",
        "df_convos['avg_rep_vote'] = df_convos[rep_judge].mean(axis=1)\n",
        "df_convos['avg_dem_vote'] = df_convos[dem_judge].mean(axis=1)\n",
        "\n",
        "corr = df_convos[['party'] + rep_judge + dem_judge + ['avg_rep_vote', 'avg_dem_vote']].corr(numeric_only=True)"
      ],
      "metadata": {
        "id": "2Qj19PlakSVG"
      },
      "execution_count": 128,
      "outputs": []
    },
    {
      "cell_type": "code",
      "source": [
        "print(f\"Here is our correlation matrix {corr}\")\n",
        "#Note: the NaN represents Justices who were not likely to have served at the Court during the same time periods. E.g David H Souter and Neil Gorsuch."
      ],
      "metadata": {
        "id": "99PJcpHJt36C",
        "colab": {
          "base_uri": "https://localhost:8080/"
        },
        "outputId": "b945c5b8-5e03-4c6c-d4ab-65d695d754df"
      },
      "execution_count": 129,
      "outputs": [
        {
          "output_type": "stream",
          "name": "stdout",
          "text": [
            "Here is our correlation matrix                         j__clarence_thomas  j__anthony_m_kennedy  \\\n",
            "j__clarence_thomas                1.000000              0.553479   \n",
            "j__anthony_m_kennedy              0.553479              1.000000   \n",
            "j__antonin_scalia                 0.784898              0.564426   \n",
            "j__john_g_roberts_jr              0.668051              0.697952   \n",
            "j__samuel_a_alito_jr              0.727476              0.669186   \n",
            "j__john_paul_stevens              0.063300              0.290381   \n",
            "j__david_h_souter                 0.141161              0.355850   \n",
            "j__william_h_rehnquist            0.652448              0.722813   \n",
            "j__neil_gorsuch                   0.663678              0.722555   \n",
            "j__brett_m_kavanaugh              0.592766                   NaN   \n",
            "j__ruth_bader_ginsburg            0.183185              0.432897   \n",
            "j__stephen_g_breyer               0.199934              0.488800   \n",
            "j__sonia_sotomayor                0.236567              0.509679   \n",
            "j__elena_kagan                    0.305065              0.592255   \n",
            "avg_rep_vote                      0.814503              0.810024   \n",
            "avg_dem_vote                      0.212719              0.504552   \n",
            "\n",
            "                        j__antonin_scalia  j__john_g_roberts_jr  \\\n",
            "j__clarence_thomas               0.784898              0.668051   \n",
            "j__anthony_m_kennedy             0.564426              0.697952   \n",
            "j__antonin_scalia                1.000000              0.749481   \n",
            "j__john_g_roberts_jr             0.749481              1.000000   \n",
            "j__samuel_a_alito_jr             0.682389              0.760016   \n",
            "j__john_paul_stevens             0.093895              0.207806   \n",
            "j__david_h_souter                0.169331              0.290053   \n",
            "j__william_h_rehnquist           0.642813                   NaN   \n",
            "j__neil_gorsuch                       NaN              0.516612   \n",
            "j__brett_m_kavanaugh                  NaN              0.818620   \n",
            "j__ruth_bader_ginsburg           0.216908              0.359199   \n",
            "j__stephen_g_breyer              0.191894              0.432870   \n",
            "j__sonia_sotomayor               0.281112              0.426128   \n",
            "j__elena_kagan                   0.365087              0.467979   \n",
            "avg_rep_vote                     0.817881              0.875394   \n",
            "avg_dem_vote                     0.235711              0.432580   \n",
            "\n",
            "                        j__samuel_a_alito_jr  j__john_paul_stevens  \\\n",
            "j__clarence_thomas                  0.727476              0.063300   \n",
            "j__anthony_m_kennedy                0.669186              0.290381   \n",
            "j__antonin_scalia                   0.682389              0.093895   \n",
            "j__john_g_roberts_jr                0.760016              0.207806   \n",
            "j__samuel_a_alito_jr                1.000000              0.121698   \n",
            "j__john_paul_stevens                0.121698              1.000000   \n",
            "j__david_h_souter                   0.188967              0.714818   \n",
            "j__william_h_rehnquist                   NaN              0.143537   \n",
            "j__neil_gorsuch                     0.562120                   NaN   \n",
            "j__brett_m_kavanaugh                0.818405                   NaN   \n",
            "j__ruth_bader_ginsburg              0.259121              0.690461   \n",
            "j__stephen_g_breyer                 0.330167              0.639790   \n",
            "j__sonia_sotomayor                  0.268537              0.609649   \n",
            "j__elena_kagan                      0.339784                   NaN   \n",
            "avg_rep_vote                        0.869463              0.512504   \n",
            "avg_dem_vote                        0.314442              0.721229   \n",
            "\n",
            "                        j__david_h_souter  j__william_h_rehnquist  \\\n",
            "j__clarence_thomas               0.141161                0.652448   \n",
            "j__anthony_m_kennedy             0.355850                0.722813   \n",
            "j__antonin_scalia                0.169331                0.642813   \n",
            "j__john_g_roberts_jr             0.290053                     NaN   \n",
            "j__samuel_a_alito_jr             0.188967                     NaN   \n",
            "j__john_paul_stevens             0.714818                0.143537   \n",
            "j__david_h_souter                1.000000                0.232338   \n",
            "j__william_h_rehnquist           0.232338                1.000000   \n",
            "j__neil_gorsuch                       NaN                     NaN   \n",
            "j__brett_m_kavanaugh                  NaN                     NaN   \n",
            "j__ruth_bader_ginsburg           0.764784                0.276552   \n",
            "j__stephen_g_breyer              0.672631                0.314145   \n",
            "j__sonia_sotomayor                    NaN                     NaN   \n",
            "j__elena_kagan                        NaN                     NaN   \n",
            "avg_rep_vote                     0.596194                0.794187   \n",
            "avg_dem_vote                     0.775341                0.317181   \n",
            "\n",
            "                        j__neil_gorsuch  j__brett_m_kavanaugh  \\\n",
            "j__clarence_thomas             0.663678              0.592766   \n",
            "j__anthony_m_kennedy           0.722555                   NaN   \n",
            "j__antonin_scalia                   NaN                   NaN   \n",
            "j__john_g_roberts_jr           0.516612              0.818620   \n",
            "j__samuel_a_alito_jr           0.562120              0.818405   \n",
            "j__john_paul_stevens                NaN                   NaN   \n",
            "j__david_h_souter                   NaN                   NaN   \n",
            "j__william_h_rehnquist              NaN                   NaN   \n",
            "j__neil_gorsuch                1.000000              0.395199   \n",
            "j__brett_m_kavanaugh           0.395199              1.000000   \n",
            "j__ruth_bader_ginsburg         0.206910              0.261090   \n",
            "j__stephen_g_breyer            0.151106              0.329977   \n",
            "j__sonia_sotomayor             0.148717              0.215585   \n",
            "j__elena_kagan                 0.284701              0.351976   \n",
            "avg_rep_vote                   0.780359              0.884933   \n",
            "avg_dem_vote                   0.211930              0.319991   \n",
            "\n",
            "                        j__ruth_bader_ginsburg  j__stephen_g_breyer  \\\n",
            "j__clarence_thomas                    0.183185             0.199934   \n",
            "j__anthony_m_kennedy                  0.432897             0.488800   \n",
            "j__antonin_scalia                     0.216908             0.191894   \n",
            "j__john_g_roberts_jr                  0.359199             0.432870   \n",
            "j__samuel_a_alito_jr                  0.259121             0.330167   \n",
            "j__john_paul_stevens                  0.690461             0.639790   \n",
            "j__david_h_souter                     0.764784             0.672631   \n",
            "j__william_h_rehnquist                0.276552             0.314145   \n",
            "j__neil_gorsuch                       0.206910             0.151106   \n",
            "j__brett_m_kavanaugh                  0.261090             0.329977   \n",
            "j__ruth_bader_ginsburg                1.000000             0.729469   \n",
            "j__stephen_g_breyer                   0.729469             1.000000   \n",
            "j__sonia_sotomayor                    0.797874             0.739943   \n",
            "j__elena_kagan                        0.820931             0.796208   \n",
            "avg_rep_vote                          0.458494             0.484804   \n",
            "avg_dem_vote                          0.923466             0.908829   \n",
            "\n",
            "                        j__sonia_sotomayor  j__elena_kagan  avg_rep_vote  \\\n",
            "j__clarence_thomas                0.236567        0.305065      0.814503   \n",
            "j__anthony_m_kennedy              0.509679        0.592255      0.810024   \n",
            "j__antonin_scalia                 0.281112        0.365087      0.817881   \n",
            "j__john_g_roberts_jr              0.426128        0.467979      0.875394   \n",
            "j__samuel_a_alito_jr              0.268537        0.339784      0.869463   \n",
            "j__john_paul_stevens              0.609649             NaN      0.512504   \n",
            "j__david_h_souter                      NaN             NaN      0.596194   \n",
            "j__william_h_rehnquist                 NaN             NaN      0.794187   \n",
            "j__neil_gorsuch                   0.148717        0.284701      0.780359   \n",
            "j__brett_m_kavanaugh              0.215585        0.351976      0.884933   \n",
            "j__ruth_bader_ginsburg            0.797874        0.820931      0.458494   \n",
            "j__stephen_g_breyer               0.739943        0.796208      0.484804   \n",
            "j__sonia_sotomayor                1.000000        0.798378      0.409107   \n",
            "j__elena_kagan                    0.798378        1.000000      0.486256   \n",
            "avg_rep_vote                      0.409107        0.486256      1.000000   \n",
            "avg_dem_vote                      0.913737        0.932110      0.516898   \n",
            "\n",
            "                        avg_dem_vote  \n",
            "j__clarence_thomas          0.212719  \n",
            "j__anthony_m_kennedy        0.504552  \n",
            "j__antonin_scalia           0.235711  \n",
            "j__john_g_roberts_jr        0.432580  \n",
            "j__samuel_a_alito_jr        0.314442  \n",
            "j__john_paul_stevens        0.721229  \n",
            "j__david_h_souter           0.775341  \n",
            "j__william_h_rehnquist      0.317181  \n",
            "j__neil_gorsuch             0.211930  \n",
            "j__brett_m_kavanaugh        0.319991  \n",
            "j__ruth_bader_ginsburg      0.923466  \n",
            "j__stephen_g_breyer         0.908829  \n",
            "j__sonia_sotomayor          0.913737  \n",
            "j__elena_kagan              0.932110  \n",
            "avg_rep_vote                0.516898  \n",
            "avg_dem_vote                1.000000  \n"
          ]
        }
      ]
    },
    {
      "cell_type": "code",
      "source": [
        "print(df_utts.head())"
      ],
      "metadata": {
        "id": "qr4G2HlLuVJW",
        "colab": {
          "base_uri": "https://localhost:8080/"
        },
        "outputId": "9e2f7fc4-efb5-40c5-8d39-fd8d4918f49a"
      },
      "execution_count": 130,
      "outputs": [
        {
          "output_type": "stream",
          "name": "stdout",
          "text": [
            "             id  timestamp                                               text  \\\n",
            "0  22149__0_000        NaN  We'll hear argument now on number 01-584, Wand...   \n",
            "1  22149__0_001        NaN  Mr. Chief Justice, may it please the Court: Th...   \n",
            "2  22149__0_002        NaN  Mr. Crabtree, we are not talking about a situa...   \n",
            "3  22149__0_003        NaN  No, Your Honor.\\nWe believe that disparate imp...   \n",
            "4  22149__0_004        NaN  Well, now in Washington against Davis, we held...   \n",
            "\n",
            "                  speaker      reply_to  conversation_id meta.case_id  \\\n",
            "0  j__william_h_rehnquist           NaN            22149  2001_01-584   \n",
            "1           john_crabtree  22149__0_000            22149  2001_01-584   \n",
            "2  j__william_h_rehnquist  22149__0_001            22149  2001_01-584   \n",
            "3           john_crabtree  22149__0_002            22149  2001_01-584   \n",
            "4  j__william_h_rehnquist  22149__0_003            22149  2001_01-584   \n",
            "\n",
            "   meta.start_times   meta.stop_times meta.speaker_type  meta.side  \\\n",
            "0     [0.0, 10.031]  [10.031, 11.972]                 J        NaN   \n",
            "1  [11.972, 22.663]  [22.663, 34.513]                 A        1.0   \n",
            "2  [34.513, 47.061]  [47.061, 51.064]                 J        NaN   \n",
            "3  [51.064, 51.641]   [51.641, 63.53]                 A        1.0   \n",
            "4   [63.53, 80.786]  [80.786, 92.137]                 J        NaN   \n",
            "\n",
            "   meta.timestamp vectors  year  \n",
            "0           0.000      []  2001  \n",
            "1          11.972      []  2001  \n",
            "2          34.513      []  2001  \n",
            "3          51.064      []  2001  \n",
            "4          63.530      []  2001  \n"
          ]
        }
      ]
    },
    {
      "cell_type": "markdown",
      "source": [
        "For the first year of the Bush administration (2001) and the first year of the Obama administration (2008), what are our bigrams? "
      ],
      "metadata": {
        "id": "KgXUCu2o1_nN"
      }
    },
    {
      "cell_type": "code",
      "source": [
        "from sklearn.feature_extraction.text import CountVectorizer\n",
        "import nltk\n",
        "\n",
        "mask = (df_utts['year'] == 2001) | (df_utts['year'] == 2009)\n",
        "df_filtered = df_utts[mask]\n",
        "vectorizer = CountVectorizer(ngram_range=(2, 2), stop_words = 'english')\n",
        "X = vectorizer.fit_transform(df_filtered['text'])\n",
        "bigrams = pd.DataFrame(X.toarray(), columns=vectorizer.get_feature_names_out())\n",
        "bigram_counts = bigrams.sum()\n",
        "most_common_bigrams = bigram_counts.nlargest(n=3)\n",
        "\n",
        "print(most_common_bigrams)\n"
      ],
      "metadata": {
        "id": "sjorI6x6xJ_j",
        "colab": {
          "base_uri": "https://localhost:8080/"
        },
        "outputId": "f5ba4111-303d-4628-a86e-052112d35de2"
      },
      "execution_count": 131,
      "outputs": [
        {
          "output_type": "stream",
          "name": "stdout",
          "text": [
            "chief justice     845\n",
            "don think         773\n",
            "district court    755\n",
            "dtype: int64\n"
          ]
        }
      ]
    },
    {
      "cell_type": "code",
      "source": [
        "from sklearn.feature_extraction.text import CountVectorizer\n",
        "import nltk\n",
        "\n",
        "mask = (df_utts['year'] == 2008) | (df_utts['year'] == 2016)\n",
        "df_filtered = df_utts[mask]\n",
        "vectorizer = CountVectorizer(ngram_range=(2, 2), stop_words = 'english')\n",
        "X = vectorizer.fit_transform(df_filtered['text'])\n",
        "bigrams = pd.DataFrame(X.toarray(), columns=vectorizer.get_feature_names_out())\n",
        "bigram_counts = bigrams.sum()\n",
        "most_common_bigrams_2 = bigram_counts.nlargest(n=3)\n",
        "\n",
        "print(most_common_bigrams_2)\n"
      ],
      "metadata": {
        "id": "Rnr6jokI2rHo",
        "colab": {
          "base_uri": "https://localhost:8080/"
        },
        "outputId": "07602515-6c87-4dec-ee57-31fb703f966f"
      },
      "execution_count": 132,
      "outputs": [
        {
          "output_type": "stream",
          "name": "stdout",
          "text": [
            "don think         1033\n",
            "district court     922\n",
            "chief justice      906\n",
            "dtype: int64\n"
          ]
        }
      ]
    }
  ]
}